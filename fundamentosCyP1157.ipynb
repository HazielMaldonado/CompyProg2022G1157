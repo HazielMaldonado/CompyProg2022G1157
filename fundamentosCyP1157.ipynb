{
  "nbformat": 4,
  "nbformat_minor": 0,
  "metadata": {
    "colab": {
      "name": "fundamentosCyP1157.ipynb",
      "provenance": [],
      "authorship_tag": "ABX9TyPYiyF4l4eW6qDUelJc45S5",
      "include_colab_link": true
    },
    "kernelspec": {
      "name": "python3",
      "display_name": "Python 3"
    },
    "language_info": {
      "name": "python"
    }
  },
  "cells": [
    {
      "cell_type": "markdown",
      "metadata": {
        "id": "view-in-github",
        "colab_type": "text"
      },
      "source": [
        "<a href=\"https://colab.research.google.com/github/HazielMaldonado/CompyProg2022G1157/blob/main/fundamentosCyP1157.ipynb\" target=\"_parent\"><img src=\"https://colab.research.google.com/assets/colab-badge.svg\" alt=\"Open In Colab\"/></a>"
      ]
    },
    {
      "cell_type": "code",
      "metadata": {
        "colab": {
          "base_uri": "https://localhost:8080/"
        },
        "id": "hlarswgzVeFK",
        "outputId": "2b0a0fd1-9fe0-4159-c2b5-84ca108f693e"
      },
      "source": [
        "nombre = 'Jose' # Tipo de dato String (cadena de caracteres)\n",
        "\n",
        "print ( nombre )\n"
      ],
      "execution_count": 1,
      "outputs": [
        {
          "output_type": "stream",
          "name": "stdout",
          "text": [
            "Jose\n"
          ]
        }
      ]
    },
    {
      "cell_type": "markdown",
      "metadata": {
        "id": "GUCAKGoCXMN6"
      },
      "source": [
        "# Tipos de dato en Python\n",
        "\n",
        "### Tipos simples\n",
        "- str --> String cadena de \n",
        "caractéres.\n",
        "-int --> Numeros enteros\n",
        "-float --> Numeros con notación de punto flotante\n",
        "-complex --> Numeros complejos\n",
        "-bool --> Booleano (True o False)\n",
        "-byte --> 8 bits\n",
        "\n",
        "###Tipos de datos estructurados (compuestos)\n",
        "\n",
        "-list --> Listas\n",
        "-tuple --> Listas no mutables\n",
        "-dict --> diccionarios \n",
        "-set y frozenset --> Conjuntos\n",
        "\n"
      ]
    },
    {
      "cell_type": "code",
      "metadata": {
        "colab": {
          "base_uri": "https://localhost:8080/"
        },
        "id": "jvVYy5y4aTXR",
        "outputId": "3ce55994-e7e0-4a58-a68c-3ea6f0531bce"
      },
      "source": [
        "\n",
        "import sys\n",
        "\n",
        "edad = 19\n",
        "print (\"Tu edad es: \" , edad) # al final de una línea de código\n",
        "# este es un comentario de linea simple \n",
        "\n",
        "\"\"\"\n",
        "Comentario de multiple línea\n",
        "En lenguaje C, C++ y Java el comentario de múltiple linea es con\n",
        "/* ...... */\n",
        "\n",
        "En lenguaje C, C++ y java el comentario de una sola linea es con :\n",
        "\n",
        "//\n",
        "\n",
        "Aqui puede explicar el segmento de un código para futura retroalimentación\n",
        "\n",
        "\"\"\"\n",
        "# tipos de dato numerico int y float\n",
        "\n",
        "print ( sys.getsizeof(edad) )\n",
        "\n",
        "edad = edad + 1\n",
        "\n",
        "print (edad) \n",
        "\n",
        "estatura = 1.56\n",
        "print ( estatura )\n",
        "print ( sys.getsizeof(estatura) )\n",
        "estatura = estatura + 0.1\n",
        "print (estatura)\n",
        "print ( round(estatura,2) )\n",
        "\n",
        "edad += 1 # edad = edad + 1\n",
        "print (\"Tu edad es :\",edad)\n",
        "\n",
        "edad-=1 # edad = edad - 1\n",
        "print (\"Tu edad es :\",edad)\n",
        "\n",
        "edad +=1 #vuelve a 21\n",
        "edad/=2 # edad = edad / 2\n",
        "print (\"Tu edad es :\",edad)\n",
        "\n",
        "edad = 21\n",
        " # volver a caclcular la mitad de ña edad pero solo dejar \n",
        " # parte entera\n",
        "edad = edad // 2\n",
        "\n",
        "print ( \"La mitad de tu edad es:\", edad)\n",
        "\n",
        "# En la mayoria de los lenguajes no permite operaciones entre\n",
        "# diferentes tipos de datos, en python\n",
        "\n",
        "numero = edad / 2.0\n",
        "\n",
        "print (numero)\n",
        "\n",
        "numero *= 3\n",
        "\n",
        "print (numero)\n",
        "\n",
        "numero = 5.0\n",
        "numero = numero ** 2\n",
        "print (numero)\n",
        "\n",
        "# operador modulo\n",
        "\n",
        "numero = 21\n",
        "print (numero / 2 )"
      ],
      "execution_count": 27,
      "outputs": [
        {
          "output_type": "stream",
          "name": "stdout",
          "text": [
            "Tu edad es:  19\n",
            "28\n",
            "20\n",
            "1.56\n",
            "24\n",
            "1.6600000000000001\n",
            "1.66\n",
            "Tu edad es : 21\n",
            "Tu edad es : 20\n",
            "Tu edad es : 10.5\n",
            "La mitad de tu edad es: 10\n",
            "5.0\n",
            "15.0\n",
            "25.0\n",
            "10.5\n"
          ]
        }
      ]
    },
    {
      "cell_type": "code",
      "metadata": {
        "colab": {
          "base_uri": "https://localhost:8080/"
        },
        "id": "JDWWc3C1ltXT",
        "outputId": "ad24bc30-a3df-4c16-fca8-de07dbb946af"
      },
      "source": [
        "# operador modulo\n",
        "numero = 21\n",
        "print (numero / 2 )\n",
        "print (numero // 2 )\n",
        "\n",
        "# el operador módulo dá como resultado el residuo de una division entera\n",
        "print (numero % 2 )\n",
        "\n",
        "numero = 24\n",
        "print(\"Residuo de 24 / 5:\", numero % 5 )\n",
        "\n",
        "#operadores logicos o relacionales\n",
        "print ( \"24 es par? =\", numero % 2 == 0)\n",
        "\n",
        "#difernecia\n",
        "print (\"24 es diferente de 23=\", numero != 23)\n",
        "\n",
        "print (\"24 es menor de 23\", numero < 23)\n",
        "\n",
        "print (\"24 es mayor o igual que 24\", numero >= 24)\n",
        "print (\"24 es menor o igual de 23\", numero <= 23)\n",
        "\n",
        "\n",
        "print (\"El tipo de dato de la variable numero es:\", type (numero))\n",
        "print (\"El tipo de dato de la var numero /2.0 es:\", type (numero/2.0))"
      ],
      "execution_count": 47,
      "outputs": [
        {
          "output_type": "stream",
          "name": "stdout",
          "text": [
            "10.5\n",
            "10\n",
            "1\n",
            "Residuo de 24 / 5: 4\n",
            "24 es par? = True\n",
            "24 es diferente de 23= True\n",
            "24 es menor de 23 False\n",
            "24 es mayor o igual que 24 True\n",
            "24 es menor o igual de 23 False\n",
            "El tipo de dato de la variable numero es: <class 'int'>\n",
            "El tipo de dato de la var numero /2.0 es: <class 'float'>\n"
          ]
        }
      ]
    },
    {
      "cell_type": "markdown",
      "metadata": {
        "id": "SbcTKap_pkBf"
      },
      "source": [
        "#Tipo de dato String (str) en Python\n",
        "\n",
        "- Se maneja como un arreglo ( tipo de dato compuesto)\n",
        "- Se puede acceder a los elementos de el string por medio del ídndice del caracter.\n",
        "- Mutable (puedes cambiar sus valores)\n",
        "- tiene métodos útiles (potentes)\n",
        "- slicing"
      ]
    },
    {
      "cell_type": "code",
      "metadata": {
        "colab": {
          "base_uri": "https://localhost:8080/"
        },
        "id": "C826eI8nqLEZ",
        "outputId": "3cfc8f66-5f89-442e-bfdb-f802f9d9d26e"
      },
      "source": [
        "nombre = 'jose' # un enunciado solo se necesita una comilla\n",
        "carrera = \"Ingeniería en computación\" # una frase de un renglon se usan dos comillas\n",
        "frase= \"\"\" El conocimiento  \n",
        "me persigue,......\n",
        "pero \n",
        "yo soy más rápido\n",
        "\"\"\" # para usar mas renglones se ponen 2 comillas, 3 veces\n",
        "print (nombre)\n",
        "print (carrera)\n",
        "print (frase)\n",
        "\n",
        "# La función type de Python te devuelve el tipo de dato de una variable (o expresión)\n",
        "print (type(nombre))\n",
        "\n",
        "paterno = str( \"Perez\")\n",
        "print ( paterno)"
      ],
      "execution_count": 48,
      "outputs": [
        {
          "output_type": "stream",
          "name": "stdout",
          "text": [
            "jose\n",
            "Ingeniería en computación\n",
            " El conocimiento \n",
            "me persigue,......\n",
            "pero \n",
            "yo soy más rápido\n",
            "\n",
            "<class 'str'>\n",
            "Perez\n"
          ]
        }
      ]
    },
    {
      "cell_type": "markdown",
      "metadata": {
        "id": "zXgv8N7XjYi1"
      },
      "source": [
        "#Tarea \n",
        "Hacer un resumen de mínimo una \n",
        "cuartilla de los origenes del \n",
        "lenguaje Python\n",
        "\n",
        "- ¿Por que de su creación?\n",
        "- Características principales\n",
        "- Difernecias con otros leng.\n",
        "\n",
        "Forma de entrega: A mano en un \n",
        "cuaderno, sacarle foto (Scanner) y subir la foto."
      ]
    }
  ]
}