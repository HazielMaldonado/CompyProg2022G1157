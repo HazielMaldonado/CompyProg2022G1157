{
  "nbformat": 4,
  "nbformat_minor": 0,
  "metadata": {
    "colab": {
      "name": "Tarea7.ipynb",
      "provenance": [],
      "authorship_tag": "ABX9TyMTsLGR6QtdgdZaOoBo8fCA",
      "include_colab_link": true
    },
    "kernelspec": {
      "name": "python3",
      "display_name": "Python 3"
    },
    "language_info": {
      "name": "python"
    }
  },
  "cells": [
    {
      "cell_type": "markdown",
      "metadata": {
        "id": "view-in-github",
        "colab_type": "text"
      },
      "source": [
        "<a href=\"https://colab.research.google.com/github/HazielMaldonado/CompyProg2022G1157/blob/main/Tarea7.ipynb\" target=\"_parent\"><img src=\"https://colab.research.google.com/assets/colab-badge.svg\" alt=\"Open In Colab\"/></a>"
      ]
    },
    {
      "cell_type": "code",
      "metadata": {
        "id": "7ITI46vVysN1"
      },
      "source": [
        "#Problema 3.1\n",
        "SUMPAR = 0\n",
        "SUMIMP = 0\n",
        "CUEPAR = 0\n",
        "I = 1\n",
        "for I in range (1,270):\n",
        "    NUM = int(input(\"Introduzca un valor\"))\n",
        "    \n",
        "    if NUM != 0:\n",
        "        if (7\n",
        "            8\n",
        "            45\n",
        "            ((-1)**NUM)>0):\n",
        "            SUMPAR = SUMPAR + NUM;\n",
        "            CUEPAR = CUEPAR + 1;\n",
        "        else:\n",
        "            SUMIMP = SUMIMP + NUM;\n",
        "    I = I + 1\n",
        "PROPAR = SUMPAR / CUEPAR\n",
        "print(PROPAR, SUMIMP)"
      ],
      "execution_count": null,
      "outputs": []
    },
    {
      "cell_type": "code",
      "metadata": {
        "id": "7txGEXiN5YpR"
      },
      "source": [
        "#Problema 3.2\n",
        "BAND = 'T'\n",
        "SUMSER = 0\n",
        "I = 2\n",
        "while I <= 1800:\n",
        "    SUMSER = SUMSER + I\n",
        "    print(I)\n",
        "    if BAND is 'T':\n",
        "        BAND = \"F\"\n",
        "        I = I + 3;\n",
        "    else:\n",
        "        BAND = 'T';\n",
        "        I = I + 2;\n",
        "if SUMSER < 1800:\n",
        "    print(SUMSER)\n",
        " \n"
      ],
      "execution_count": null,
      "outputs": []
    },
    {
      "cell_type": "code",
      "metadata": {
        "id": "gSyzIYNU5ZuR"
      },
      "source": [
        "#Problema 3.3\n",
        "SERIE = 0\n",
        "N = int(input(\"Introduce un valor positivo:\"))\n",
        "BAND = 'T'\n",
        "I = 1\n",
        "for I in range (1,N):\n",
        "    if BAND == \"T\":\n",
        "        SERIE = SERIE + (1/I);\n",
        "        BAND = 'F';\n",
        "    else:\n",
        "        SERIE = SERIE - (1/I);\n",
        "        BAND = 'T';\n",
        "    I = I + 1;\n",
        "print(SERIE)\n"
      ],
      "execution_count": null,
      "outputs": []
    },
    {
      "cell_type": "code",
      "metadata": {
        "id": "fPqDFdP25avt"
      },
      "source": [
        "#Problema 3.4\n",
        "NOM = 0\n",
        "SUE = float(input(\"Introduce tu sueldo:\"))\n",
        "while SUE != (-1):\n",
        "    if SUE < 1000:\n",
        "        NSUE = SUE * (1.15);\n",
        "        \n",
        "    else:\n",
        "        NSUE = SUE * (1.12);\n",
        "    NOM = NOM + NSUE;\n",
        "    print(NSUE);\n",
        "    SUE = float(input(\"Introduce tu sueldo:\"))\n",
        "print(NOM)\n"
      ],
      "execution_count": null,
      "outputs": []
    }
  ]
}