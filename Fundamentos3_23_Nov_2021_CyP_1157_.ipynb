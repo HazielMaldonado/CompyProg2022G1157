{
  "nbformat": 4,
  "nbformat_minor": 0,
  "metadata": {
    "colab": {
      "name": "Fundamentos3 23_Nov_2021_CyP_1157 .ipynb",
      "provenance": [],
      "authorship_tag": "ABX9TyPPXJrgEhZltIL3MkhCSbU2",
      "include_colab_link": true
    },
    "kernelspec": {
      "name": "python3",
      "display_name": "Python 3"
    },
    "language_info": {
      "name": "python"
    }
  },
  "cells": [
    {
      "cell_type": "markdown",
      "metadata": {
        "id": "view-in-github",
        "colab_type": "text"
      },
      "source": [
        "<a href=\"https://colab.research.google.com/github/HazielMaldonado/CompyProg2022G1157/blob/main/Fundamentos3_23_Nov_2021_CyP_1157_.ipynb\" target=\"_parent\"><img src=\"https://colab.research.google.com/assets/colab-badge.svg\" alt=\"Open In Colab\"/></a>"
      ]
    },
    {
      "cell_type": "markdown",
      "metadata": {
        "id": "cdOaT9veFoYM"
      },
      "source": [
        "Repetición:\n",
        "  - Este tipo de estructura nos permite automatizar la ejecución repetitiva de código mientras ciertas condiciones se cumplan, tenemos 3 variantes de esta estructura en todos los lenguajes de programación:\n",
        "    - Desde... hasta (estructura (for)\n",
        "    - haz mientras (estructura While\n",
        "    - haz y luego validaz mientras (estructura Do-While)\n",
        "\n",
        "# FOR CON Python\n",
        "```\n",
        "for j in range (10):\n",
        "    print(f\"Hola {j}\")\n",
        "```\n",
        "\n",
        "# FOR CON Leng C y/o JAVA\n",
        "```\n",
        "for(int j=0; j<10; j=j+1) {\n",
        "    printf(\"Hola %i \\n\", j );\n",
        "}\n",
        "```\n",
        "\n",
        "En todos los lenguajes de programación existe un tipo especial de for, conocido como **for-each**\n",
        "\n",
        "# For-each en Python\n",
        "```\n",
        "for color in colores:\n",
        "    print(f\"Este es el color{color}\")\n",
        "```"
      ]
    },
    {
      "cell_type": "code",
      "metadata": {
        "colab": {
          "base_uri": "https://localhost:8080/"
        },
        "id": "0l__NPpFFO5G",
        "outputId": "193eff5c-cb13-433c-c4fa-0855567a675d"
      },
      "source": [
        "# funcion range()\n",
        "# range(<INICIO>,<STOP>,<INCREMENTO>)\n",
        "x = range(0,10,2)\n",
        "print(x)\n",
        "\n",
        "for j in range(10): # range(0,10) --> 0,1,2,3,4,5,6,7,8,9\n",
        "    print(f\"Hola {j}\")\n",
        "print(\"-.-.-.-.-.\")\n",
        "for j in range(0,10,2): # range(0,10) --> 0,2,4,6,8\n",
        "    print(f\"Hola {j}\")\n",
        "\n",
        "frutas = [\"uva\",\"aguacate\",\"pera\",\"manzana\",\"Sandia\"]\n",
        "print(frutas[0])\n",
        "print(frutas[1])\n",
        "print(frutas[2])\n",
        "print(frutas[3])\n",
        "print(frutas[4])\n",
        "print(\".-.-.--frutas.-.-.-.\")\n",
        "for index in range(5):\n",
        "    print(frutas[index])\n",
        "\n",
        "for j in range(5):\n",
        "    print (\"+++++\")\n",
        "A = [\"+\",\"++\",\"+++\",\"++++\",\"+++++\"]\n",
        "for j in range(5):\n",
        "    print(A[j])\n",
        "\n"
      ],
      "execution_count": null,
      "outputs": [
        {
          "output_type": "stream",
          "name": "stdout",
          "text": [
            "range(0, 10, 2)\n",
            "Hola 0\n",
            "Hola 1\n",
            "Hola 2\n",
            "Hola 3\n",
            "Hola 4\n",
            "Hola 5\n",
            "Hola 6\n",
            "Hola 7\n",
            "Hola 8\n",
            "Hola 9\n",
            "-.-.-.-.-.\n",
            "Hola 0\n",
            "Hola 2\n",
            "Hola 4\n",
            "Hola 6\n",
            "Hola 8\n",
            "uva\n",
            "aguacate\n",
            "pera\n",
            "manzana\n",
            "Sandia\n",
            ".-.-.--frutas.-.-.-.\n",
            "uva\n",
            "aguacate\n",
            "pera\n",
            "manzana\n",
            "Sandia\n",
            "+++++\n",
            "+++++\n",
            "+++++\n",
            "+++++\n",
            "+++++\n",
            "+\n",
            "++\n",
            "+++\n",
            "++++\n",
            "+++++\n"
          ]
        }
      ]
    },
    {
      "cell_type": "markdown",
      "metadata": {
        "id": "aY__RpC1LT_9"
      },
      "source": [
        "+++++\n",
        "+++++\n",
        "+++++\n",
        "+++++\n",
        "+++++\n",
        "+\n",
        "++\n",
        "+++\n",
        "++++\n",
        "+++++"
      ]
    }
  ]
}