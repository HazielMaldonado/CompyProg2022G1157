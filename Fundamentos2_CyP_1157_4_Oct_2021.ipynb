{
  "nbformat": 4,
  "nbformat_minor": 0,
  "metadata": {
    "colab": {
      "name": "Fundamentos2_CyP_1157 4-Oct-2021.ipynb",
      "provenance": [],
      "authorship_tag": "ABX9TyPjtferJQplCEfJ2uZlweTn",
      "include_colab_link": true
    },
    "kernelspec": {
      "name": "python3",
      "display_name": "Python 3"
    },
    "language_info": {
      "name": "python"
    }
  },
  "cells": [
    {
      "cell_type": "markdown",
      "metadata": {
        "id": "view-in-github",
        "colab_type": "text"
      },
      "source": [
        "<a href=\"https://colab.research.google.com/github/HazielMaldonado/CompyProg2022G1157/blob/main/Fundamentos2_CyP_1157_4_Oct_2021.ipynb\" target=\"_parent\"><img src=\"https://colab.research.google.com/assets/colab-badge.svg\" alt=\"Open In Colab\"/></a>"
      ]
    },
    {
      "cell_type": "markdown",
      "metadata": {
        "id": "-lPVWWU1Fd1a"
      },
      "source": [
        "#Tipos de datos estructurados de pyton\n",
        "\n",
        "1. Listas\n",
        "2. Duplas\n",
        "3. Tuplas\n",
        "4. Conjuntos (opcional)"
      ]
    },
    {
      "cell_type": "markdown",
      "metadata": {
        "id": "JooCNQrPFs0o"
      },
      "source": [
        "# Listas\n",
        "- Tipo de dato que agrupa variables o valores.\n",
        "- Estructura secuencial (indexados empezando por 0)\n",
        "- Se declara de dos formas#\n",
        "     - usando [  ]\n",
        "     - usando list ()\n",
        "- Puede contener tipo de dato diversos (En otros lenguajes de programacion no es posible de forma directa)\n",
        "- Los elementos internos se seleccionan con [ ]\n",
        "- Soporta slicing\n",
        "- SON MUTABLES\n",
        "- GENERADORES [] va por x in range\n",
        "- Al ser una clase contiene muchos métodos útiles\n"
      ]
    },
    {
      "cell_type": "code",
      "metadata": {
        "colab": {
          "base_uri": "https://localhost:8080/"
        },
        "id": "GH1UdH1nFYwF",
        "outputId": "102f342f-0156-4c95-a45c-a1eda85f543b"
      },
      "source": [
        "numeros = [10, 5, 2, 3, 1 ]\n",
        "print(numeros)\n",
        "\n",
        "numeros2 = list()\n",
        "numeros2.append(10)\n",
        "numeros2.append(5)\n",
        "numeros2.append(2)\n",
        "numeros2.append(3)\n",
        "numeros2.append(1)\n",
        "print(numeros2)\n",
        "numeros[2] = 20\n",
        "print (numeros)\n",
        "numeros[4] = 33\n",
        "numeros.append(88)\n",
        "print (numeros)\n"
      ],
      "execution_count": 34,
      "outputs": [
        {
          "output_type": "stream",
          "name": "stdout",
          "text": [
            "[10, 5, 2, 3, 1]\n",
            "[10, 5, 2, 3, 1]\n",
            "[10, 5, 20, 3, 1]\n",
            "[10, 5, 20, 3, 33, 88]\n"
          ]
        }
      ]
    },
    {
      "cell_type": "code",
      "metadata": {
        "colab": {
          "base_uri": "https://localhost:8080/"
        },
        "id": "CeF8hYmDIcw4",
        "outputId": "c659cad8-12ec-4909-eb58-e46d66ab777a"
      },
      "source": [
        "#tipos diversos \n",
        "\n",
        "cosas = [12, 2, True, \"Jose\", 1.57 , [\"pera\" ,\"kiwi\" , \"uva\"]]\n",
        "print(cosas)\n",
        "print(cosas[1])\n",
        "print(cosas[4])\n",
        "print(cosas[5])\n",
        "print(cosas[3][1:2:])\n",
        "cosas [3] = cosas[3].upper()\n",
        "print (cosas)\n",
        "\n",
        "\n",
        "\n"
      ],
      "execution_count": 35,
      "outputs": [
        {
          "output_type": "stream",
          "name": "stdout",
          "text": [
            "[12, 2, True, 'Jose', 1.57, ['pera', 'kiwi', 'uva']]\n",
            "2\n",
            "1.57\n",
            "['pera', 'kiwi', 'uva']\n",
            "o\n",
            "[12, 2, True, 'JOSE', 1.57, ['pera', 'kiwi', 'uva']]\n"
          ]
        }
      ]
    },
    {
      "cell_type": "code",
      "metadata": {
        "colab": {
          "base_uri": "https://localhost:8080/"
        },
        "id": "VjXUuW0RL2Tb",
        "outputId": "a122cd04-e040-4855-f80f-75699319f1a1"
      },
      "source": [
        "numeros = [1, 2, 3, 4, 5, 6, 7, 8, 9, 10, 11]\n",
        "print(numeros)\n",
        "print(numeros[3:8:])\n",
        "#2: [9,10]\n",
        "print(numeros[8:10:])\n",
        "#3:- imprimir la lista en orden inverso [11,10,9,8,...]\n",
        "print(numeros[::-1])\n"
      ],
      "execution_count": 60,
      "outputs": [
        {
          "output_type": "stream",
          "name": "stdout",
          "text": [
            "[1, 2, 3, 4, 5, 6, 7, 8, 9, 10, 11]\n",
            "[4, 5, 6, 7, 8]\n",
            "[9, 10]\n",
            "[11, 10, 9, 8, 7, 6, 5, 4, 3, 2, 1]\n"
          ]
        }
      ]
    },
    {
      "cell_type": "code",
      "metadata": {
        "colab": {
          "base_uri": "https://localhost:8080/"
        },
        "id": "jRIAAUmOQ8dc",
        "outputId": "e6fdc847-1445-4e01-be58-dfcfdf46fc23"
      },
      "source": [
        "# crear una lista con un generador \n",
        "numeros = [ x for x in range(101)] \n",
        "print(numeros)"
      ],
      "execution_count": 81,
      "outputs": [
        {
          "output_type": "stream",
          "name": "stdout",
          "text": [
            "[0, 1, 2, 3, 4, 5, 6, 7, 8, 9, 10, 11, 12, 13, 14, 15, 16, 17, 18, 19, 20, 21, 22, 23, 24, 25, 26, 27, 28, 29, 30, 31, 32, 33, 34, 35, 36, 37, 38, 39, 40, 41, 42, 43, 44, 45, 46, 47, 48, 49, 50, 51, 52, 53, 54, 55, 56, 57, 58, 59, 60, 61, 62, 63, 64, 65, 66, 67, 68, 69, 70, 71, 72, 73, 74, 75, 76, 77, 78, 79, 80, 81, 82, 83, 84, 85, 86, 87, 88, 89, 90, 91, 92, 93, 94, 95, 96, 97, 98, 99, 100]\n"
          ]
        }
      ]
    },
    {
      "cell_type": "markdown",
      "metadata": {
        "id": "gSOazOg7Qys5"
      },
      "source": [
        "#Funcion range(()\n",
        "tiene los mismos componentes que slicing\n",
        "ini, stop, incrementio\n",
        "range (1,101,1)"
      ]
    },
    {
      "cell_type": "code",
      "metadata": {
        "colab": {
          "base_uri": "https://localhost:8080/"
        },
        "id": "Qp_ifAE4Po2b",
        "outputId": "3ff261dc-2ea2-4dfa-e1b7-0866db2216c8"
      },
      "source": [
        "numeros = [ x for x in range(50,101,5)] \n",
        "print(numeros)"
      ],
      "execution_count": 79,
      "outputs": [
        {
          "output_type": "stream",
          "name": "stdout",
          "text": [
            "[50, 55, 60, 65, 70, 75, 80, 85, 90, 95, 100]\n"
          ]
        }
      ]
    },
    {
      "cell_type": "markdown",
      "metadata": {
        "id": "86HlcSH-RPKC"
      },
      "source": [
        "# metodos disponibles de las listas"
      ]
    },
    {
      "cell_type": "code",
      "metadata": {
        "colab": {
          "base_uri": "https://localhost:8080/"
        },
        "id": "1uYk6TjXRSHr",
        "outputId": "0454c01b-7e96-49b6-cb85-8308ccdde58a"
      },
      "source": [
        "dir(list)"
      ],
      "execution_count": 82,
      "outputs": [
        {
          "output_type": "execute_result",
          "data": {
            "text/plain": [
              "['__add__',\n",
              " '__class__',\n",
              " '__contains__',\n",
              " '__delattr__',\n",
              " '__delitem__',\n",
              " '__dir__',\n",
              " '__doc__',\n",
              " '__eq__',\n",
              " '__format__',\n",
              " '__ge__',\n",
              " '__getattribute__',\n",
              " '__getitem__',\n",
              " '__gt__',\n",
              " '__hash__',\n",
              " '__iadd__',\n",
              " '__imul__',\n",
              " '__init__',\n",
              " '__init_subclass__',\n",
              " '__iter__',\n",
              " '__le__',\n",
              " '__len__',\n",
              " '__lt__',\n",
              " '__mul__',\n",
              " '__ne__',\n",
              " '__new__',\n",
              " '__reduce__',\n",
              " '__reduce_ex__',\n",
              " '__repr__',\n",
              " '__reversed__',\n",
              " '__rmul__',\n",
              " '__setattr__',\n",
              " '__setitem__',\n",
              " '__sizeof__',\n",
              " '__str__',\n",
              " '__subclasshook__',\n",
              " 'append',\n",
              " 'clear',\n",
              " 'copy',\n",
              " 'count',\n",
              " 'extend',\n",
              " 'index',\n",
              " 'insert',\n",
              " 'pop',\n",
              " 'remove',\n",
              " 'reverse',\n",
              " 'sort']"
            ]
          },
          "metadata": {},
          "execution_count": 82
        }
      ]
    },
    {
      "cell_type": "code",
      "metadata": {
        "colab": {
          "base_uri": "https://localhost:8080/"
        },
        "id": "GLU5GGw1Sanw",
        "outputId": "44e3bd90-b6cd-42bd-fe7e-ceaa73b84ba6"
      },
      "source": [
        "numeros = [4,1,15,8,22,34,50,15]\n",
        "print (numeros)\n",
        "numeros.append(99)\n",
        "print (numeros)\n",
        "#numeros.clear()\n",
        "#numeros = []\n",
        "print(numeros)\n",
        "\n",
        "frutas = [\"uvas\", \"kiwi\" , \"manzana\"] \n",
        "copia = frutas\n",
        "print(frutas)\n",
        "print(copia)\n",
        "frutas.append(\"naranja\")\n",
        "print(frutas)\n",
        "print(copia)\n",
        "\n",
        "colores = [\"rojo\" , \"azul\", \"blanco\"]\n",
        "copia2 = colores.copy()\n",
        "print(colores)\n",
        "print(copia2)\n",
        "colores.append(\"verde\")\n",
        "print(colores)\n",
        "print(copia2)\n",
        "\n",
        "print(\"Numero de veces que aparece el 15:\", numeros.count(15))\n",
        "\n",
        "# extend\n",
        "nombres =[\"Jose\", \"Pedro\", \"Karina\"]\n",
        "\n",
        "otrosNombres = [\"Josue\", \"Diana\", \"Dalia\"]\n",
        "\n",
        "print(nombres)\n",
        "print(otrosNombres)\n",
        "nombres = nombres + otrosNombres\n",
        "print(nombres)\n",
        "print(otrosNombres)\n",
        "\n",
        "#lo mismo con el metodo extend\n",
        "otrosNombres.extend([\"Jesus\", \"Maria\", \"Jose\"])\n",
        "print(otrosNombres)\n",
        "print(\"Jesus esta en la posicion;\" , otrosNombres.index(\"Jesus\"))\n",
        "otrosNombres.insert(4,\"Espiritu santo\")\n",
        "print(otrosNombres)\n",
        "\n",
        "#pop\n",
        "resultado = otrosNombres.pop()\n",
        "print(otrosNombres)\n",
        "print(resultado)\n"
      ],
      "execution_count": 106,
      "outputs": [
        {
          "output_type": "stream",
          "name": "stdout",
          "text": [
            "[4, 1, 15, 8, 22, 34, 50, 15]\n",
            "[4, 1, 15, 8, 22, 34, 50, 15, 99]\n",
            "[4, 1, 15, 8, 22, 34, 50, 15, 99]\n",
            "['uvas', 'kiwi', 'manzana']\n",
            "['uvas', 'kiwi', 'manzana']\n",
            "['uvas', 'kiwi', 'manzana', 'naranja']\n",
            "['uvas', 'kiwi', 'manzana', 'naranja']\n",
            "['rojo', 'azul', 'blanco']\n",
            "['rojo', 'azul', 'blanco']\n",
            "['rojo', 'azul', 'blanco', 'verde']\n",
            "['rojo', 'azul', 'blanco']\n",
            "Numero de veces que aparece el 15: 2\n",
            "['Jose', 'Pedro', 'Karina']\n",
            "['Josue', 'Diana', 'Dalia']\n",
            "['Jose', 'Pedro', 'Karina', 'Josue', 'Diana', 'Dalia']\n",
            "['Josue', 'Diana', 'Dalia']\n",
            "['Josue', 'Diana', 'Dalia', 'Jesus', 'Maria', 'Jose']\n",
            "Jesus esta en la posicion; 3\n",
            "['Josue', 'Diana', 'Dalia', 'Jesus', 'Espiritu santo', 'Maria', 'Jose']\n",
            "['Josue', 'Diana', 'Dalia', 'Jesus', 'Espiritu santo', 'Maria']\n",
            "Jose\n"
          ]
        }
      ]
    }
  ]
}