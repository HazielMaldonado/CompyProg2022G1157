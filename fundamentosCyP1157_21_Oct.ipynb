{
  "nbformat": 4,
  "nbformat_minor": 0,
  "metadata": {
    "colab": {
      "name": "fundamentosCyP1157 21-Oct.ipynb",
      "provenance": [],
      "authorship_tag": "ABX9TyM9tCfUBdIdxihKXr+Bjqth",
      "include_colab_link": true
    },
    "kernelspec": {
      "name": "python3",
      "display_name": "Python 3"
    },
    "language_info": {
      "name": "python"
    }
  },
  "cells": [
    {
      "cell_type": "markdown",
      "metadata": {
        "id": "view-in-github",
        "colab_type": "text"
      },
      "source": [
        "<a href=\"https://colab.research.google.com/github/HazielMaldonado/CompyProg2022G1157/blob/main/fundamentosCyP1157_21_Oct.ipynb\" target=\"_parent\"><img src=\"https://colab.research.google.com/assets/colab-badge.svg\" alt=\"Open In Colab\"/></a>"
      ]
    },
    {
      "cell_type": "code",
      "metadata": {
        "colab": {
          "base_uri": "https://localhost:8080/"
        },
        "id": "hlarswgzVeFK",
        "outputId": "2b0a0fd1-9fe0-4159-c2b5-84ca108f693e"
      },
      "source": [
        "nombre = 'Jose' # Tipo de dato String (cadena de caracteres)\n",
        "\n",
        "print ( nombre )\n"
      ],
      "execution_count": null,
      "outputs": [
        {
          "output_type": "stream",
          "name": "stdout",
          "text": [
            "Jose\n"
          ]
        }
      ]
    },
    {
      "cell_type": "markdown",
      "metadata": {
        "id": "GUCAKGoCXMN6"
      },
      "source": [
        "# Tipos de dato en Python\n",
        "\n",
        "### Tipos simples\n",
        "- str --> String cadena de \n",
        "caractéres.\n",
        "-int --> Numeros enteros\n",
        "-float --> Numeros con notación de punto flotante\n",
        "-complex --> Numeros complejos\n",
        "-bool --> Booleano (True o False)\n",
        "-byte --> 8 bits\n",
        "\n",
        "###Tipos de datos estructurados (compuestos)\n",
        "\n",
        "-list --> Listas\n",
        "-tuple --> Listas no mutables\n",
        "-dict --> diccionarios \n",
        "-set y frozenset --> Conjuntos\n",
        "\n"
      ]
    },
    {
      "cell_type": "code",
      "metadata": {
        "colab": {
          "base_uri": "https://localhost:8080/"
        },
        "id": "jvVYy5y4aTXR",
        "outputId": "3ce55994-e7e0-4a58-a68c-3ea6f0531bce"
      },
      "source": [
        "\n",
        "import sys\n",
        "\n",
        "edad = 19\n",
        "print (\"Tu edad es: \" , edad) # al final de una línea de código\n",
        "# este es un comentario de linea simple \n",
        "\n",
        "\"\"\"\n",
        "Comentario de multiple línea\n",
        "En lenguaje C, C++ y Java el comentario de múltiple linea es con\n",
        "/* ...... */\n",
        "\n",
        "En lenguaje C, C++ y java el comentario de una sola linea es con :\n",
        "\n",
        "//\n",
        "\n",
        "Aqui puede explicar el segmento de un código para futura retroalimentación\n",
        "\n",
        "\"\"\"\n",
        "# tipos de dato numerico int y float\n",
        "\n",
        "print ( sys.getsizeof(edad) )\n",
        "\n",
        "edad = edad + 1\n",
        "\n",
        "print (edad) \n",
        "\n",
        "estatura = 1.56\n",
        "print ( estatura )\n",
        "print ( sys.getsizeof(estatura) )\n",
        "estatura = estatura + 0.1\n",
        "print (estatura)\n",
        "print ( round(estatura,2) )\n",
        "\n",
        "edad += 1 # edad = edad + 1\n",
        "print (\"Tu edad es :\",edad)\n",
        "\n",
        "edad-=1 # edad = edad - 1\n",
        "print (\"Tu edad es :\",edad)\n",
        "\n",
        "edad +=1 #vuelve a 21\n",
        "edad/=2 # edad = edad / 2\n",
        "print (\"Tu edad es :\",edad)\n",
        "\n",
        "edad = 21\n",
        " # volver a caclcular la mitad de ña edad pero solo dejar \n",
        " # parte entera\n",
        "edad = edad // 2\n",
        "\n",
        "print ( \"La mitad de tu edad es:\", edad)\n",
        "\n",
        "# En la mayoria de los lenguajes no permite operaciones entre\n",
        "# diferentes tipos de datos, en python\n",
        "\n",
        "numero = edad / 2.0\n",
        "\n",
        "print (numero)\n",
        "\n",
        "numero *= 3\n",
        "\n",
        "print (numero)\n",
        "\n",
        "numero = 5.0\n",
        "numero = numero ** 2\n",
        "print (numero)\n",
        "\n",
        "# operador modulo\n",
        "\n",
        "numero = 21\n",
        "print (numero / 2 )"
      ],
      "execution_count": null,
      "outputs": [
        {
          "output_type": "stream",
          "name": "stdout",
          "text": [
            "Tu edad es:  19\n",
            "28\n",
            "20\n",
            "1.56\n",
            "24\n",
            "1.6600000000000001\n",
            "1.66\n",
            "Tu edad es : 21\n",
            "Tu edad es : 20\n",
            "Tu edad es : 10.5\n",
            "La mitad de tu edad es: 10\n",
            "5.0\n",
            "15.0\n",
            "25.0\n",
            "10.5\n"
          ]
        }
      ]
    },
    {
      "cell_type": "code",
      "metadata": {
        "colab": {
          "base_uri": "https://localhost:8080/"
        },
        "id": "JDWWc3C1ltXT",
        "outputId": "ad24bc30-a3df-4c16-fca8-de07dbb946af"
      },
      "source": [
        "# operador modulo\n",
        "numero = 21\n",
        "print (numero / 2 )\n",
        "print (numero // 2 )\n",
        "\n",
        "# el operador módulo dá como resultado el residuo de una division entera\n",
        "print (numero % 2 )\n",
        "\n",
        "numero = 24\n",
        "print(\"Residuo de 24 / 5:\", numero % 5 )\n",
        "\n",
        "#operadores logicos o relacionales\n",
        "print ( \"24 es par? =\", numero % 2 == 0)\n",
        "\n",
        "#difernecia\n",
        "print (\"24 es diferente de 23=\", numero != 23)\n",
        "\n",
        "print (\"24 es menor de 23\", numero < 23)\n",
        "\n",
        "print (\"24 es mayor o igual que 24\", numero >= 24)\n",
        "print (\"24 es menor o igual de 23\", numero <= 23)\n",
        "\n",
        "\n",
        "print (\"El tipo de dato de la variable numero es:\", type (numero))\n",
        "print (\"El tipo de dato de la var numero /2.0 es:\", type (numero/2.0))"
      ],
      "execution_count": null,
      "outputs": [
        {
          "output_type": "stream",
          "name": "stdout",
          "text": [
            "10.5\n",
            "10\n",
            "1\n",
            "Residuo de 24 / 5: 4\n",
            "24 es par? = True\n",
            "24 es diferente de 23= True\n",
            "24 es menor de 23 False\n",
            "24 es mayor o igual que 24 True\n",
            "24 es menor o igual de 23 False\n",
            "El tipo de dato de la variable numero es: <class 'int'>\n",
            "El tipo de dato de la var numero /2.0 es: <class 'float'>\n"
          ]
        }
      ]
    },
    {
      "cell_type": "markdown",
      "metadata": {
        "id": "SbcTKap_pkBf"
      },
      "source": [
        "#Tipo de dato String (str) en Python\n",
        "\n",
        "- Se maneja como un arreglo ( tipo de dato compuesto)\n",
        "- Se puede acceder a los elementos de el string por medio del ídndice del caracter.\n",
        "- Mutable (puedes cambiar sus valores)\n",
        "- tiene métodos útiles (potentes)\n",
        "- slicing"
      ]
    },
    {
      "cell_type": "code",
      "metadata": {
        "colab": {
          "base_uri": "https://localhost:8080/"
        },
        "id": "C826eI8nqLEZ",
        "outputId": "3cfc8f66-5f89-442e-bfdb-f802f9d9d26e"
      },
      "source": [
        "nombre = 'jose' # un enunciado solo se necesita una comilla\n",
        "carrera = \"Ingeniería en computación\" # una frase de un renglon se usan dos comillas\n",
        "frase= \"\"\" El conocimiento  \n",
        "me persigue,......\n",
        "pero \n",
        "yo soy más rápido\n",
        "\"\"\" # para usar mas renglones se ponen 2 comillas, 3 veces\n",
        "print (nombre)\n",
        "print (carrera)\n",
        "print (frase)\n",
        "\n",
        "# La función type de Python te devuelve el tipo de dato de una variable (o expresión)\n",
        "print (type(nombre))\n",
        "\n",
        "paterno = str( \"Perez\")\n",
        "print ( paterno)"
      ],
      "execution_count": null,
      "outputs": [
        {
          "output_type": "stream",
          "name": "stdout",
          "text": [
            "jose\n",
            "Ingeniería en computación\n",
            " El conocimiento \n",
            "me persigue,......\n",
            "pero \n",
            "yo soy más rápido\n",
            "\n",
            "<class 'str'>\n",
            "Perez\n"
          ]
        }
      ]
    },
    {
      "cell_type": "markdown",
      "metadata": {
        "id": "zXgv8N7XjYi1"
      },
      "source": [
        "#Tarea \n",
        "Hacer un resumen de mínimo una \n",
        "cuartilla de los origenes del \n",
        "lenguaje Python\n",
        "\n",
        "- ¿Por que de su creación?\n",
        "- Características principales\n",
        "- Difernecias con otros leng.\n",
        "\n",
        "Forma de entrega: A mano en un \n",
        "cuaderno, sacarle foto (Scanner) y subir la foto."
      ]
    },
    {
      "cell_type": "markdown",
      "metadata": {
        "id": "z6g8NgIOpKPQ"
      },
      "source": [
        "##Una clase (class) es un tipo de dato compuesto\n"
      ]
    },
    {
      "cell_type": "code",
      "metadata": {
        "colab": {
          "base_uri": "https://localhost:8080/"
        },
        "id": "fxM_YlMVpTT6",
        "outputId": "246c059e-e067-4190-8509-4d85b711f987"
      },
      "source": [
        "carrera = \"Ingeniería en computación\"\n",
        "print (carrera)\n",
        "print (carrera [2])"
      ],
      "execution_count": null,
      "outputs": [
        {
          "output_type": "stream",
          "name": "stdout",
          "text": [
            "Ingeniería en computación\n",
            "g\n"
          ]
        }
      ]
    },
    {
      "cell_type": "markdown",
      "metadata": {
        "id": "vly_-9-Erqxx"
      },
      "source": [
        "# a la sintacis escrita para elegir un elemento de un grupo de datos se le llama selector.\n",
        "\n",
        "En el caso de Strings y listas (lst) se usan los caracteres '['y']'\n",
        "\n",
        "1. En todos los lenguajes los arreglos inician en 0.\n",
        "2. En python no existe como tal el tipo de dato arreglo, el concepto es sustituido por las listas.\n",
        "3. Los strings se comportan como un arregloen la mayoria de los lenguajes.\n",
        "4.En python se acepta en indexado negativo, en otros lenguajes NO."
      ]
    },
    {
      "cell_type": "code",
      "metadata": {
        "colab": {
          "base_uri": "https://localhost:8080/"
        },
        "id": "DgmKhLtssguf",
        "outputId": "990b40c9-1ec7-42cb-d3fe-779e247a6c5b"
      },
      "source": [
        "carrera = \"Ingeniería en computación\"\n",
        "print (carrera [8])\n",
        "print (carrera [24])\n",
        "print (carrera [-1])\n",
        "print (carrera [-25])\n",
        "\n",
        "\n",
        "# Adelantando el tema ciclo FOR\n",
        "\n",
        "for letra in carrera:\n",
        "  print ( \"-->\", letra, \"<--\")"
      ],
      "execution_count": null,
      "outputs": [
        {
          "output_type": "stream",
          "name": "stdout",
          "text": [
            "í\n",
            "n\n",
            "n\n",
            "I\n",
            "--> I <--\n",
            "--> n <--\n",
            "--> g <--\n",
            "--> e <--\n",
            "--> n <--\n",
            "--> i <--\n",
            "--> e <--\n",
            "--> r <--\n",
            "--> í <--\n",
            "--> a <--\n",
            "-->   <--\n",
            "--> e <--\n",
            "--> n <--\n",
            "-->   <--\n",
            "--> c <--\n",
            "--> o <--\n",
            "--> m <--\n",
            "--> p <--\n",
            "--> u <--\n",
            "--> t <--\n",
            "--> a <--\n",
            "--> c <--\n",
            "--> i <--\n",
            "--> ó <--\n",
            "--> n <--\n"
          ]
        }
      ]
    },
    {
      "cell_type": "markdown",
      "metadata": {
        "id": "1VB6o6eVu4TB"
      },
      "source": [
        "# Slicing (rebanado) de cadenas\n",
        "\n",
        "Permite seleccionar subcadenas con el operador \n",
        "### [  < inicio > : < stop > : < incremento >  ] \n",
        "\n",
        "El stop no se incluye, es por eso que debemos agregar una posicion extra.\n",
        "### Slicing y valores por defecto\n",
        "\n",
        "inicio por defecto siempre será 0\n",
        "stop: tamaño del arreglo (indexado positivo)\n",
        "        0 ( en un indexado negativo)\n",
        "        Incremento es 1 (indexado positivo)\n",
        "\n",
        "\n"
      ]
    },
    {
      "cell_type": "code",
      "metadata": {
        "colab": {
          "base_uri": "https://localhost:8080/"
        },
        "id": "2bIZNcFEvXpw",
        "outputId": "71187956-66b3-4751-c8ae-2181f027defd"
      },
      "source": [
        "carrera = \"Ingeniería en computación\"\n",
        "print (carrera [0:10:1])\n",
        "print (carrera [14:25:1])\n",
        "print (carrera [-11:-1:1])\n",
        "print (carrera [:10:])\n",
        "print (carrera [14:25:])\n",
        "print (carrera [-11::])\n",
        "\n",
        "#Solucion previa\n",
        "print (\"-------\")\n",
        "print (carrera [-11::1])\n",
        "\n",
        "\n",
        "# un ejercicio mas para ver incremento\n",
        "print (carrera [0:10:2])\n",
        "print (carrera [-1:-12:-1])\n"
      ],
      "execution_count": null,
      "outputs": [
        {
          "output_type": "stream",
          "name": "stdout",
          "text": [
            "Ingeniería\n",
            "computación\n",
            "computació\n",
            "Ingeniería\n",
            "computación\n",
            "computación\n",
            "-------\n",
            "computación\n",
            "Igneí\n",
            "nóicatupmoc\n"
          ]
        }
      ]
    },
    {
      "cell_type": "markdown",
      "metadata": {
        "id": "Kl73SHuN0ka0"
      },
      "source": [
        "# String y sus métodos\n",
        "\n",
        "## dir () y help ()\n",
        "\n",
        "dir muestra las funciones de un tipo de  dato como resumen\n",
        "\n",
        "help muestras la misma ayuda pero a detalle.\n"
      ]
    },
    {
      "cell_type": "code",
      "metadata": {
        "colab": {
          "base_uri": "https://localhost:8080/"
        },
        "id": "4cEx-woI0-77",
        "outputId": "78e998a2-181b-4ac0-f45f-225ab43929f1"
      },
      "source": [
        "frutas = \"  limon , fresa, manzana , aguacate  \"\n",
        "nombre = \"jose\"\n",
        "print (frutas)\n",
        "\n",
        "\n",
        "print ( nombre.capitalize() )\n",
        "print( nombre.upper() )\n",
        "print(frutas.replace('a', '4' ).replace('e', '3').upper())\n",
        "frutas = frutas.replace('a', '4' ).replace('e', '3').upper()\n",
        "print (frutas)\n",
        "\n",
        "print (\".-.-.-.-.-.-.-.-.-.-.-\")\n",
        "frutas = \"  limon, fresa, manzana, aguacate  \"\n",
        "print (frutas.strip())\n",
        "print (frutas.split())\n",
        "\n",
        "print(frutas.index(\"n\")   )\n"
      ],
      "execution_count": null,
      "outputs": [
        {
          "output_type": "stream",
          "name": "stdout",
          "text": [
            "  limon , fresa, manzana , aguacate  \n",
            "Jose\n",
            "JOSE\n",
            "  LIMON , FR3S4, M4NZ4N4 , 4GU4C4T3  \n",
            "  LIMON , FR3S4, M4NZ4N4 , 4GU4C4T3  \n",
            ".-.-.-.-.-.-.-.-.-.-.-\n",
            "limon, fresa, manzana, aguacate\n",
            "['limon,', 'fresa,', 'manzana,', 'aguacate']\n",
            "6\n"
          ]
        }
      ]
    },
    {
      "cell_type": "markdown",
      "metadata": {
        "id": "Z2HU7PBI8ZZr"
      },
      "source": [
        "#String y caracteres de escape\n",
        "\"Jose\"\n",
        "- \\\\\" -->\"\n",
        "- \\\\' -->'\n",
        "- \\\\n --> Salto de linea (tecal enter)\n",
        "- \\\\t --> tabulador espacios a la izquierda\n",
        "- \\uxxxx --> caracteres unicode\n",
        "- \\Uxxxxxxxx --> unicode extendido\n",
        "\n",
        "\n",
        "- \\\\\"   --> \"\n",
        "- \\\\'   --> '\n",
        "- \\n   --> Salto de linea (tecla enter)\n",
        "- \\t   --> tabulador spacios a la izq.\n",
        "- \\uxxxx  --> Caracteres unicode \n",
        "- \\Uxxxxxxxx --> unicode extendido\n",
        "- \\\\\\   --> \\\\   "
      ]
    },
    {
      "cell_type": "code",
      "metadata": {
        "colab": {
          "base_uri": "https://localhost:8080/"
        },
        "id": "Mq5dF-hS87L1",
        "outputId": "b1776842-3872-40ce-e739-dd80adeb4726"
      },
      "source": [
        "print(\" \\\"jose\\\" \")\n",
        "nombre = \" \\\"jose\\\" \"\n",
        "print( nombre )\n",
        "carrera = \"Ingeniería \\nen \\n \\t\\tComputación\"\n",
        "print( carrera )\n",
        "print( \" \\u0065 \" )\n",
        "print( \" \\u0444 \" )\n",
        "print( \" \\u0620 \" )\n",
        "print( \" \\U00010057 \" )\n",
        "print( \" \\U0001F60F \" )\n",
        "print( \" \\U0001F9A0 \" )"
      ],
      "execution_count": null,
      "outputs": [
        {
          "output_type": "stream",
          "name": "stdout",
          "text": [
            " \"jose\" \n",
            " \"jose\" \n",
            "Ingeniería \n",
            "en \n",
            " \t\tComputación\n",
            " e \n",
            " ф \n",
            " ؠ \n",
            " 𐁗 \n",
            " 😏 \n",
            " 🦠 \n"
          ]
        }
      ]
    },
    {
      "cell_type": "markdown",
      "metadata": {
        "id": "A2-eHyyTyMgK"
      },
      "source": [
        "#Funcion print\n",
        "### Se emplea para desplegar información en la salida estandar. Normalmente un monitor \n",
        "- Formas de usar print\n",
        "- El argumento por defecto de print (end)\n",
        "- format()\n",
        "- operador f\"   \"\n",
        "\n"
      ]
    },
    {
      "cell_type": "code",
      "metadata": {
        "colab": {
          "base_uri": "https://localhost:8080/"
        },
        "id": "qXRvT1A3y0cJ",
        "outputId": "12d91c93-acfe-4dbe-e30a-34e8e01e3c51"
      },
      "source": [
        "nombre = \"Jose\"\n",
        "edad = 18\n",
        "casado = False\n",
        "estatura = 1.67\n",
        "\"\"\"\n",
        "Nombre: Jose\n",
        "Edad: 18\n",
        "Esta casado: False\n",
        "Estatura en metros : 1.67\n",
        "\"\"\"\n",
        "# 1.- con comas.- concatena haciendo un casting (conversion a string automatico)\n",
        "# agrega un espacio\n",
        "print(nombre,edad,casado,estatura)\n",
        "print(\"Nombre: \" +nombre + \"\\n\\tEdad:\"+ str(edad)+ \"\\n\\testa casado :\" +str(casado) +\"\\n\\t Estatura en metros :\" +str(estatura) )\n",
        "\n",
        "#2.- con el simbolo de \"+\"\n",
        "#Concatenación en crudo.\n",
        "print(nombre+\"  \"+ str(edad)+\" \" + str(casado)+\"  \"+str(estatura))\n",
        "\n",
        "# 3.- Dando formato a la salida con format()\n",
        "print (\"Nombre: {3}\\n\\tEdad: {2}\\n\\tEstacasado: {1}\\n\\testatura en metros : {0}\".format(nombre,edad,casado,estatura ))\n",
        "\n",
        "#4.- con el operador f\" \"\n",
        "print(\"Con el operador f\\\" \\\"\")\n",
        "print(f\"Nombre: { nombre }\\n\\tEdad: { edad }\\n\\tEstacasado: { casado }\\n\\testatura en metros : { estatura}\")\n",
        "\n",
        "\n",
        "#Como manejar el argumento end\n",
        "print (\"\\n Como usar el argumento end\")\n",
        "print(f\"Hola {nombre }\", end= \" \")\n",
        "print (\",Como estas?\", end= \" \")\n"
      ],
      "execution_count": null,
      "outputs": [
        {
          "output_type": "stream",
          "name": "stdout",
          "text": [
            "Jose 18 False 1.67\n",
            "Nombre: Jose\n",
            "\tEdad:18\n",
            "\testa casado :False\n",
            "\t Estatura en metros :1.67\n",
            "Jose  18 False  1.67\n",
            "Nombre: 1.67\n",
            "\tEdad: False\n",
            "\tEstacasado: 18\n",
            "\testatura en metros : Jose\n",
            "Con el operador f\" \"\n",
            "Nombre: Jose\n",
            "\tEdad: 18\n",
            "\tEstacasado: False\n",
            "\testatura en metros : 1.67\n",
            "\n",
            " Como usar el argumento end\n",
            "Hola Jose ,Como estas? "
          ]
        }
      ]
    },
    {
      "cell_type": "markdown",
      "metadata": {
        "id": "v3kAkw_z61SD"
      },
      "source": [
        "#Tarea \n",
        "### Con una sola función POR LETRA, escribir su primer nombre (nombre de pila) de la siguiente forma\n",
        "\n",
        "K   K\n",
        "K K\n",
        "K\n",
        "K  K\n",
        "K    K\n",
        "\n",
        "   A\n",
        "  A A\n",
        " A   A \n",
        "A A A A \n",
        "A      A"
      ]
    }
  ]
}