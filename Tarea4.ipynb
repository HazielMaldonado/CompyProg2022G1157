{
  "nbformat": 4,
  "nbformat_minor": 0,
  "metadata": {
    "colab": {
      "name": "Tarea4.ipynb",
      "provenance": [],
      "authorship_tag": "ABX9TyP5htLewHnn67ylsDhASXEG",
      "include_colab_link": true
    },
    "kernelspec": {
      "name": "python3",
      "display_name": "Python 3"
    },
    "language_info": {
      "name": "python"
    }
  },
  "cells": [
    {
      "cell_type": "markdown",
      "metadata": {
        "id": "view-in-github",
        "colab_type": "text"
      },
      "source": [
        "<a href=\"https://colab.research.google.com/github/HazielMaldonado/CompyProg2022G1157/blob/main/Tarea4.ipynb\" target=\"_parent\"><img src=\"https://colab.research.google.com/assets/colab-badge.svg\" alt=\"Open In Colab\"/></a>"
      ]
    },
    {
      "cell_type": "code",
      "metadata": {
        "colab": {
          "base_uri": "https://localhost:8080/"
        },
        "id": "d9nwDtKWjMmA",
        "outputId": "b2fd53a1-01ac-4933-b797-3ccffec9801b"
      },
      "source": [
        "print(\"\"\"\n",
        "         H       H  \n",
        "         H       H  \n",
        "         H H H H H  \n",
        "         H       H  \n",
        "         H       H  \n",
        "         \n",
        "         E E E E E\n",
        "         E\n",
        "         E E E E E\n",
        "         E\n",
        "         E E E E E\n",
        "         \n",
        "         C C C C C                \n",
        "         C\n",
        "         C\n",
        "         C\n",
        "         C C C C C\n",
        "         \n",
        "         T T T T T\n",
        "             T\n",
        "             T\n",
        "             T\n",
        "             T    \n",
        "         O O O O O\n",
        "         O       O\n",
        "         O       O\n",
        "         O       O\n",
        "         O O O O O\n",
        "        \n",
        "         R R R R R\n",
        "         R        R\n",
        "         R R R R R\n",
        "         R        R\n",
        "         R         R\"\"\")"
      ],
      "execution_count": 6,
      "outputs": [
        {
          "output_type": "stream",
          "name": "stdout",
          "text": [
            "\n",
            "         H       H  \n",
            "         H       H  \n",
            "         H H H H H  \n",
            "         H       H  \n",
            "         H       H  \n",
            "         \n",
            "         E E E E E\n",
            "         E\n",
            "         E E E E E\n",
            "         E\n",
            "         E E E E E\n",
            "         \n",
            "         C C C C C                \n",
            "         C\n",
            "         C\n",
            "         C\n",
            "         C C C C C\n",
            "         \n",
            "         T T T T T\n",
            "             T\n",
            "             T\n",
            "             T\n",
            "             T    \n",
            "         O O O O O\n",
            "         O       O\n",
            "         O       O\n",
            "         O       O\n",
            "         O O O O O\n",
            "        \n",
            "         R R R R R\n",
            "         R        R\n",
            "         R R R R R\n",
            "         R        R\n",
            "         R         R\n"
          ]
        }
      ]
    }
  ]
}