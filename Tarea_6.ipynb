{
  "nbformat": 4,
  "nbformat_minor": 0,
  "metadata": {
    "colab": {
      "name": "Tarea 6.ipynb",
      "provenance": [],
      "authorship_tag": "ABX9TyPiO1aeE5zEo02kE7M26frd",
      "include_colab_link": true
    },
    "kernelspec": {
      "name": "python3",
      "display_name": "Python 3"
    },
    "language_info": {
      "name": "python"
    }
  },
  "cells": [
    {
      "cell_type": "markdown",
      "metadata": {
        "id": "view-in-github",
        "colab_type": "text"
      },
      "source": [
        "<a href=\"https://colab.research.google.com/github/HazielMaldonado/CompyProg2022G1157/blob/main/Tarea_6.ipynb\" target=\"_parent\"><img src=\"https://colab.research.google.com/assets/colab-badge.svg\" alt=\"Open In Colab\"/></a>"
      ]
    },
    {
      "cell_type": "code",
      "metadata": {
        "colab": {
          "base_uri": "https://localhost:8080/"
        },
        "id": "RQAGWZy2lhkM",
        "outputId": "1ae3090e-a627-4c51-ba16-9e3faa4b76a8"
      },
      "source": [
        "#Problema 2.1\n",
        "N= int(input(\"Introduzca un numero:\"))\n",
        "\n",
        "if N>0:\n",
        "    T= N /4 + 40\n",
        "    print(f\"Temperatura {T}\")\n",
        "print(\"Fin\")"
      ],
      "execution_count": null,
      "outputs": [
        {
          "output_type": "stream",
          "name": "stdout",
          "text": [
            "Introduzca un numero:50\n",
            "Temperatura 52.5\n",
            "Fin\n"
          ]
        }
      ]
    },
    {
      "cell_type": "code",
      "metadata": {
        "colab": {
          "base_uri": "https://localhost:8080/"
        },
        "id": "5rw_0FnJmaRj",
        "outputId": "b40ab711-40ce-442e-cb6a-476f9ca4ed95"
      },
      "source": [
        "#Problema 2.2\n",
        "\n",
        "P = int(input(\"Introduzca un valor:\"))\n",
        "Q = int(input(\"Introduzca un valor:\"))\n",
        "EXP = P**3 + Q**4 - P**2\n",
        "if EXP <680:\n",
        "    print(f\"P:{P}, Q:{Q}\")\n",
        "print(\"fin\")\n",
        "\n",
        "\n"
      ],
      "execution_count": null,
      "outputs": [
        {
          "output_type": "stream",
          "name": "stdout",
          "text": [
            "Introduzca un valor:3\n",
            "P:3, Q:3\n",
            "fin\n"
          ]
        }
      ]
    },
    {
      "cell_type": "code",
      "metadata": {
        "colab": {
          "base_uri": "https://localhost:8080/"
        },
        "id": "gYpDW4Xyo8-K",
        "outputId": "8531bdf2-2154-40fa-ef95-0db22ce63467"
      },
      "source": [
        "#Problema 2.3\n",
        "A = float(input(\"Dale un valor a A:\"))\n",
        "B = float(input(\"Dale un valor a B:\"))\n",
        "C = float(input(\"Dale un valor a C:\"))\n",
        "DIS = (B**2)-(4*A*C)\n",
        "print(DIS)\n",
        "\n",
        "if DIS >= 0:\n",
        "    X1 = ((-B)+DIS**0.5)/(2*A)\n",
        "    X2 = ((-B)-DIS**0.5)/(2*A)\n",
        "    print(f\"Raices reales X1={X1}, X2={X2}\")\n",
        "print(\"fin\")\n"
      ],
      "execution_count": null,
      "outputs": [
        {
          "output_type": "stream",
          "name": "stdout",
          "text": [
            "Dale un valor a A:3\n",
            "Dale un valor a B:9\n",
            "Dale un valor a C:1.5\n",
            "63.0\n",
            "Raices reales X1=-0.17712434446770464, X2=-2.8228756555322954\n",
            "fin\n"
          ]
        }
      ]
    },
    {
      "cell_type": "code",
      "metadata": {
        "colab": {
          "base_uri": "https://localhost:8080/"
        },
        "id": "VRHrmiR08dLq",
        "outputId": "4119da55-415f-4072-b415-c45531b5a52a"
      },
      "source": [
        "#Problema 2.4\n",
        "MAT = int(input(\"Intorduzca su matricula:\"))\n",
        "CAL1 =float(input(\"calificación 1:\"))\n",
        "CAL2 =float(input(\"calificación 2:\"))\n",
        "CAL3 =float(input(\"calificación 3:\"))\n",
        "CAL4 =float(input(\"calificación 4:\"))\n",
        "CAL5 =float(input(\"calificación 5:\"))\n",
        "\n",
        "PRO = (CAL1 + CAL2 + CAL3 + CAL4 + CAL5)/5\n",
        "\n",
        "if PRO >= 6 :\n",
        "    print(MAT,PRO, \"APROBADO\")\n",
        "else:\n",
        "    print(MAT,PRO, \"NO APROBADO\")\n",
        "print(PRO)"
      ],
      "execution_count": null,
      "outputs": [
        {
          "output_type": "stream",
          "name": "stdout",
          "text": [
            "Intorduzca su matricula:17220\n",
            "calificación 1:8.6\n",
            "calificación 2:9\n",
            "calificación 3:9\n",
            "calificación 4:5.9\n",
            "calificación 5:6.3\n",
            "17220 7.76 APROBADO\n",
            "7.76\n"
          ]
        }
      ]
    },
    {
      "cell_type": "code",
      "metadata": {
        "colab": {
          "base_uri": "https://localhost:8080/"
        },
        "id": "ncDvFrB--HfG",
        "outputId": "0e03e1c2-bccc-4abd-ea2c-d21a3ebbd77d"
      },
      "source": [
        "#Problema 2.5\n",
        "NUM = int(input(\"introduce un valor:\"))\n",
        "\n",
        "if NUM > 0:\n",
        "    print(\"POSITIVO\")\n",
        "else:\n",
        "    if NUM == 0:\n",
        "        print(\"NULO\")\n",
        "    else:\n",
        "        print(\"NEGATIVO\")\n"
      ],
      "execution_count": null,
      "outputs": [
        {
          "output_type": "stream",
          "name": "stdout",
          "text": [
            "introduce un valor:-15\n",
            "NEGATIVO\n"
          ]
        }
      ]
    },
    {
      "cell_type": "code",
      "metadata": {
        "colab": {
          "base_uri": "https://localhost:8080/"
        },
        "id": "hMSzXdEg_LbY",
        "outputId": "749168d0-a10a-48a3-fbdd-541b20a5a119"
      },
      "source": [
        "#Problema 2.6\n",
        "A = int(input(\"introduce un valor:\"))\n",
        "if A == 0:\n",
        "    print(\"NULO\")\n",
        "else:\n",
        "    if ((-1)** A )> 0:\n",
        "        print(\"PAR\")\n",
        "    else:\n",
        "        print(\"IMPAR\")\n",
        "\n",
        "print(A)"
      ],
      "execution_count": null,
      "outputs": [
        {
          "output_type": "stream",
          "name": "stdout",
          "text": [
            "introduce un valor:4\n",
            "PAR\n",
            "4\n"
          ]
        }
      ]
    },
    {
      "cell_type": "code",
      "metadata": {
        "colab": {
          "base_uri": "https://localhost:8080/"
        },
        "id": "E4D4zr2EAxuL",
        "outputId": "3b9038fa-cc73-48ba-8fe4-eb192a595ad6"
      },
      "source": [
        "#Problema 2.7\n",
        "A = int(input(\"Dale un valor a A:\"))\n",
        "B = int(input(\"Dale un valor a B:\"))\n",
        "C = int(input(\"Dale un valor a C:\"))\n",
        "\n",
        "if A < B:\n",
        "    if B < C:\n",
        "        print(\"Los números están en orden creciente\")\n",
        "    else:\n",
        "        print(\"Los números no están en orden creciente\")\n",
        "else:\n",
        "    print(\"Los números no están en orden creciente\")"
      ],
      "execution_count": null,
      "outputs": [
        {
          "output_type": "stream",
          "name": "stdout",
          "text": [
            "Dale un valor a A:2\n",
            "Dale un valor a B:1\n",
            "Dale un valor a C:3\n",
            "Los números no están en orden creciente\n"
          ]
        }
      ]
    },
    {
      "cell_type": "code",
      "metadata": {
        "colab": {
          "base_uri": "https://localhost:8080/"
        },
        "id": "jp8cqwVtBdlW",
        "outputId": "a0b99f0c-ae4b-4cf4-e048-5c4483fdbe36"
      },
      "source": [
        "#Problema 2.8\n",
        "COMPRA = float(input(\"¿Cuanto va a comprar?\"))\n",
        "\n",
        "if COMPRA < 500:\n",
        "    PAGAR = COMPRA\n",
        "else:\n",
        "    if COMPRA <= 1000:\n",
        "        PAGAR = COMPRA - (COMPRA*0.05) \n",
        "    else:\n",
        "        if COMPRA <= 7000:\n",
        "            PAGAR = COMPRA - (COMPRA*0.11)\n",
        "        else:\n",
        "            if COMPRA <= 15000:\n",
        "                PAGAR = COMPRA -(COMPRA*0.18)\n",
        "            else:\n",
        "                PAGAR = COMPRA - (COMPRA*0.25)\n",
        "print(PAGAR)"
      ],
      "execution_count": null,
      "outputs": [
        {
          "output_type": "stream",
          "name": "stdout",
          "text": [
            "¿Cuanto va a comprar?3750\n",
            "3337.5\n"
          ]
        }
      ]
    },
    {
      "cell_type": "code",
      "metadata": {
        "colab": {
          "base_uri": "https://localhost:8080/"
        },
        "id": "m5YaknqsDiuj",
        "outputId": "10fc114b-4408-4f1a-c0f1-ce81b487bcc3"
      },
      "source": [
        "# Problema 2.9\n",
        "PREBAS = float(input(\"Precio basico del producto:\"))\n",
        "if PREBAS > 500:\n",
        "    IMP = 20*0.30 + (PREBAS-40)*0.50\n",
        "else:\n",
        "    if PREBAS > 40:\n",
        "        IMP = 20*0.30 + (PREBAS-40)*0.40\n",
        "    else:\n",
        "        if PREBAS > 20:\n",
        "            IMP = (PREBAS-20)*0.30\n",
        "        else:\n",
        "            IMP = 0\n",
        "PRETOT = PREBAS+IMP\n",
        "print(f\"{PREBAS} costo total del producto\",PRETOT)\n"
      ],
      "execution_count": null,
      "outputs": [
        {
          "output_type": "stream",
          "name": "stdout",
          "text": [
            "Precio basico del producto:27.9\n",
            "27.9 costo total del producto 30.27\n"
          ]
        }
      ]
    },
    {
      "cell_type": "code",
      "metadata": {
        "colab": {
          "base_uri": "https://localhost:8080/"
        },
        "id": "ccnRuCPSIp-G",
        "outputId": "01a3be3c-c3af-4c1b-bc12-213ccce334bc"
      },
      "source": [
        "# Problema 2.10\n",
        "A = int(input(\"Dale un valor a A:\"))\n",
        "B = int(input(\"Dale un valor a B:\"))\n",
        "C = int(input(\"Dale un valor a C:\"))\n",
        "\n",
        "if A > B:\n",
        "    if A > C:\n",
        "        print(\"A es el mayor\")\n",
        "    else:\n",
        "        if A == C:\n",
        "            print(\"A y C son los mayores\")\n",
        "        else:\n",
        "            print(\"C es el mayor\")\n",
        "else:\n",
        "    if A == B:\n",
        "        if A > C:\n",
        "            print(\"A y B son los mayores\")\n",
        "        else:\n",
        "            if A == C:\n",
        "                print(\"A, B y C son iguales\")\n",
        "            else:\n",
        "                print(\"C es el mayor\")\n",
        "    else:\n",
        "        if B > C:\n",
        "            print(\"B es el mayor\")\n",
        "        else:\n",
        "            if B == C:\n",
        "                print(\"B y C son los mayores\")\n",
        "            else:\n",
        "                print(\"C es el mayor\")\n",
        "\n"
      ],
      "execution_count": null,
      "outputs": [
        {
          "output_type": "stream",
          "name": "stdout",
          "text": [
            "Dale un valor a A:17\n",
            "Dale un valor a B:17\n",
            "Dale un valor a C:17\n",
            "A, B y C son iguales\n"
          ]
        }
      ]
    },
    {
      "cell_type": "code",
      "metadata": {
        "colab": {
          "base_uri": "https://localhost:8080/"
        },
        "id": "raDy7QUsKIaF",
        "outputId": "c0077239-2c5c-4428-81ed-ea7ce9d1d629"
      },
      "source": [
        "#Problema 2.11\n",
        "CLAVE = int(input(\"Ingresa un numero:\"))\n",
        "NUMIN = int(input(\"¿Cuantos minutos hablaste?\"))\n",
        "\n",
        "if CLAVE == 12:\n",
        "    COST = NUMIN*2\n",
        "\n",
        "elif CLAVE == 15:\n",
        "    COST = NUMIN*2.2\n",
        "\n",
        "elif CLAVE == 18:\n",
        "    COST = NUMIN*4.5\n",
        "\n",
        "elif CLAVE == 19:\n",
        "    COST = NUMIN*3.5\n",
        "\n",
        "elif CLAVE == 29:\n",
        "    COST = NUMIN*(5)\n",
        "\n",
        "elif CLAVE is 23 or 25:\n",
        "    COST = NUMIN*6\n",
        "\n",
        "print(\"Costo total de la llamada\", COST)\n"
      ],
      "execution_count": null,
      "outputs": [
        {
          "output_type": "stream",
          "name": "stdout",
          "text": [
            "Ingresa un numero:18\n",
            "¿Cuantos minutos hablaste?12\n",
            "Costo total de la llamada 54.0\n"
          ]
        }
      ]
    },
    {
      "cell_type": "code",
      "metadata": {
        "colab": {
          "base_uri": "https://localhost:8080/"
        },
        "id": "6qD4CMq1NDuo",
        "outputId": "9c115ef6-d3aa-4b8b-cb0f-73aacdc72fce"
      },
      "source": [
        "#Problema 2.12\n",
        "SUE = int(input(\"Sueldo del trabajador:\"))\n",
        "CATE = int(input(\"Categoria del trabajador:\"))\n",
        "HE = int(input(\"Horas extras trabajadas:\"))\n",
        "\n",
        "if CATE == 1:\n",
        "    PHE = 30\n",
        "elif CATE == 2:\n",
        "    PHE = 38\n",
        "\n",
        "elif CATE == 3:\n",
        "    PHE = 50\n",
        "elif CATE == 4:\n",
        "    PHE = 70\n",
        "elif CATE > 4:\n",
        "    PHE = 0\n",
        "\n",
        "if HE > 30:\n",
        "    NSUE = SUE +(30*PHE)\n",
        "else:\n",
        "    NSUE = SUE + (HE*PHE)\n",
        "print(NSUE)"
      ],
      "execution_count": null,
      "outputs": [
        {
          "output_type": "stream",
          "name": "stdout",
          "text": [
            "Sueldo del trabajador:3200\n",
            "Categoria del trabajador:3\n",
            "Horas extras trabajadas:8\n",
            "3600\n"
          ]
        }
      ]
    },
    {
      "cell_type": "code",
      "metadata": {
        "colab": {
          "base_uri": "https://localhost:8080/"
        },
        "id": "d4zIVyz1PLIc",
        "outputId": "dde4a35d-e0c1-4980-e96c-ff05e2c32a61"
      },
      "source": [
        "# Problema 2.13\n",
        "MAT = int(input(\"Ingresa tu matricula:\"))\n",
        "CARR = str(input(\"Carrera inscrita:\"))\n",
        "SEM = int(input(\"Semestres aprobados:\"))\n",
        "PROM = float(input(\"Promedio del alumno:\"))\n",
        "\n",
        "\n",
        "if CARR is \"Computación\":\n",
        "    if SEM > 6 and PROM > 8.5:\n",
        "        print(f\"{MAT} , {CARR} Aceptado\");\n",
        "\n",
        "elif CARR is \"Economía\":\n",
        "    if SEM >= 6 and PROM >= 8.8:\n",
        "        print(f\"{MAT} , {CARR} Aceptado\");\n",
        "\n",
        "\n",
        "elif CARR is \"Contabilidad\" :\n",
        "    if SEM > 5 and PROM > 8.5:\n",
        "        print(f\"{MAT} , {CARR} Aceptado\");\n",
        "elif CARR is \"Administración\" :\n",
        "    if SEM > 5 and PROM > 8.5:\n",
        "        print(f\"{MAT} , {CARR} Aceptado\");\n",
        "\n",
        "\n",
        "\n"
      ],
      "execution_count": null,
      "outputs": [
        {
          "name": "stdout",
          "output_type": "stream",
          "text": [
            "Ingresa tu matricula:1500\n",
            "Carrera inscrita:Computación\n",
            "Semestres aprobados:6\n",
            "Promedio del alumno:9.2\n"
          ]
        }
      ]
    }
  ]
}