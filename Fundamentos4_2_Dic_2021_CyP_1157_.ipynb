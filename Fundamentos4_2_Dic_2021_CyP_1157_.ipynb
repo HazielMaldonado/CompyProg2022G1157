{
  "nbformat": 4,
  "nbformat_minor": 0,
  "metadata": {
    "colab": {
      "name": "Fundamentos4 2_Dic_2021_CyP_1157 .ipynb",
      "provenance": [],
      "authorship_tag": "ABX9TyNkbUu4tAjFVU5NkcJQZDyA",
      "include_colab_link": true
    },
    "kernelspec": {
      "name": "python3",
      "display_name": "Python 3"
    },
    "language_info": {
      "name": "python"
    }
  },
  "cells": [
    {
      "cell_type": "markdown",
      "metadata": {
        "id": "view-in-github",
        "colab_type": "text"
      },
      "source": [
        "<a href=\"https://colab.research.google.com/github/HazielMaldonado/CompyProg2022G1157/blob/main/Fundamentos4_2_Dic_2021_CyP_1157_.ipynb\" target=\"_parent\"><img src=\"https://colab.research.google.com/assets/colab-badge.svg\" alt=\"Open In Colab\"/></a>"
      ]
    },
    {
      "cell_type": "markdown",
      "metadata": {
        "id": "QQ5IltSlUGwD"
      },
      "source": [
        "# Modularidad (Funciones)\n",
        "Una funcion es una unidad de código reutilizable, además de ser un mecanismo para organizar código.\n",
        "\n",
        "La gran ventaja de emplear funciones es simplificar la programación.\n",
        "\n",
        "### Estructura \n",
        "Una función puede tomar cualquier cantidad de parametros de entrada (de cualquier tipo) y retornar unicamente un sólo valor.\n",
        "Un parámetro de entrada es un valor que recibe la función para realizar sus operaciones.\n",
        "\n",
        "Con una funcion se pueden hacer 2 cosas:\n",
        "1.Definirla\n",
        "2.-invocarla( ejecutarla)\n",
        "\n",
        "la gran ventaja es que la defines una vez y la puedes hacer muchas veces"
      ]
    },
    {
      "cell_type": "code",
      "metadata": {
        "id": "tcH6P6v-UDU0"
      },
      "source": [
        "def sumar ( op1, op2 ):\n",
        "    res = op1 + op2\n",
        "    return res"
      ],
      "execution_count": 2,
      "outputs": []
    },
    {
      "cell_type": "code",
      "metadata": {
        "colab": {
          "base_uri": "https://localhost:8080/"
        },
        "id": "Q-5hj0tGYFW7",
        "outputId": "88a293d4-773d-4c09-a5cb-376dcf433b45"
      },
      "source": [
        "res = sumar(2, 5)\n",
        "print(res)\n",
        "res=sumar(33,22)\n",
        "print(res)"
      ],
      "execution_count": 6,
      "outputs": [
        {
          "output_type": "stream",
          "name": "stdout",
          "text": [
            "7\n",
            "55\n"
          ]
        }
      ]
    },
    {
      "cell_type": "code",
      "metadata": {
        "colab": {
          "base_uri": "https://localhost:8080/"
        },
        "id": "RVUpwDdPZV0i",
        "outputId": "a9ebfb32-d378-412a-c32d-f1edaf295b09"
      },
      "source": [
        "print(\"hola\",\"Jesus\",sep=\"-\")"
      ],
      "execution_count": 8,
      "outputs": [
        {
          "output_type": "stream",
          "name": "stdout",
          "text": [
            "hola-Jesus\n"
          ]
        }
      ]
    },
    {
      "cell_type": "code",
      "metadata": {
        "colab": {
          "base_uri": "https://localhost:8080/"
        },
        "id": "BTv3SB-EaQbB",
        "outputId": "223c116f-b977-4ea9-d513-dc6199af63ac"
      },
      "source": [
        "def imprime_cuadro():\n",
        "    print(\"****\")\n",
        "    print(\"****\")\n",
        "    print(\"****\")\n",
        "    print(\"****\")\n",
        "    #return None\n",
        "imprime_cuadro()"
      ],
      "execution_count": 9,
      "outputs": [
        {
          "output_type": "stream",
          "name": "stdout",
          "text": [
            "****\n",
            "****\n",
            "****\n",
            "****\n"
          ]
        }
      ]
    },
    {
      "cell_type": "markdown",
      "metadata": {
        "id": "3kYW4R2NbDJS"
      },
      "source": [
        "# Valor de retorno de una función\n",
        "regla de oro.- Una funcionsiempre returna UN SOLO VALOR. inclusive si ese valor es el vacío."
      ]
    },
    {
      "cell_type": "code",
      "metadata": {
        "colab": {
          "base_uri": "https://localhost:8080/"
        },
        "id": "KvehW38NbLnQ",
        "outputId": "cf605c0d-64bc-414d-e674-97f29cd190ca"
      },
      "source": [
        "#invocar sumar\n",
        "res =sumar(7 , 8)\n",
        "print(res)\n",
        "#invocar la funcion pintar cuadro\n",
        "res = imprime_cuadro()\n",
        "print(res)"
      ],
      "execution_count": 10,
      "outputs": [
        {
          "output_type": "stream",
          "name": "stdout",
          "text": [
            "15\n",
            "****\n",
            "****\n",
            "****\n",
            "****\n",
            "None\n"
          ]
        }
      ]
    },
    {
      "cell_type": "markdown",
      "metadata": {
        "id": "e4aj8F-YdScT"
      },
      "source": [
        "#La palabra reservada None de python\n",
        "Esta palabra reservada significa vacío, equivalente a la palabra reservada void del lenguajes C, C++ y Java.\n",
        "\n",
        "Se usa ára indiciar ya sea un return vacio o que se recibe como parametro un vacío."
      ]
    },
    {
      "cell_type": "code",
      "metadata": {
        "id": "ZH0-IAxxd5FH"
      },
      "source": [
        "def multiplicar( valor, veces):\n",
        "    if valor == None:\n",
        "        c=-1\n",
        "    else:\n",
        "        c = valor*veces\n",
        "    return c"
      ],
      "execution_count": 19,
      "outputs": []
    },
    {
      "cell_type": "code",
      "metadata": {
        "colab": {
          "base_uri": "https://localhost:8080/"
        },
        "id": "WdlGxjymeI8r",
        "outputId": "c64ced04-0def-482a-d00b-68df93f7c4f3"
      },
      "source": [
        "res= multiplicar (None,5)\n",
        "print(res)"
      ],
      "execution_count": 20,
      "outputs": [
        {
          "output_type": "stream",
          "name": "stdout",
          "text": [
            "-1\n"
          ]
        }
      ]
    },
    {
      "cell_type": "markdown",
      "metadata": {
        "id": "oMu836LdfaPo"
      },
      "source": [
        "# Parametros y argumentos.\n",
        "Son conceptos relacionados y su diferencia esta centrada en el momento que se emplea en una función.\n",
        "\n",
        "Es decir en la función sumar de arriba, cuando se declara se le llama parámetro y cuando se invoca se le llama argumento"
      ]
    },
    {
      "cell_type": "markdown",
      "metadata": {
        "id": "ci_sAEWBggVq"
      },
      "source": [
        "# argumentos posicionales\n",
        "En python es psoible determinar a que parámetros están dirigidos los argumentos, según su posición."
      ]
    },
    {
      "cell_type": "code",
      "metadata": {
        "id": "0r8M5Azggqbu"
      },
      "source": [
        "def dividir( op1, op2 ):\n",
        "    c= op1/ op2\n",
        "    return c"
      ],
      "execution_count": 21,
      "outputs": []
    },
    {
      "cell_type": "code",
      "metadata": {
        "colab": {
          "base_uri": "https://localhost:8080/"
        },
        "id": "eENaoZ2tg0y2",
        "outputId": "7a2d647b-9980-4d8c-c711-df9c07b5cdc6"
      },
      "source": [
        "num1 = 25\n",
        "num2 = 5\n",
        "res= dividir(num1,num2)\n",
        "print(res)\n",
        "res= dividir(num2,num1)\n",
        "print(res)"
      ],
      "execution_count": 25,
      "outputs": [
        {
          "output_type": "stream",
          "name": "stdout",
          "text": [
            "5.0\n",
            "0.2\n"
          ]
        }
      ]
    },
    {
      "cell_type": "markdown",
      "metadata": {
        "id": "Ec3e8s46hSvt"
      },
      "source": [
        "# Argumentos con palabras clave(keywords)\n",
        "\n",
        "Es la posibilidad de indicarle a la función en tiempo de ejecución a que parámetro va dirigido un argumento de entrada.\n",
        "Solo disponible en python"
      ]
    },
    {
      "cell_type": "code",
      "metadata": {
        "id": "6XYqXp8bhudk"
      },
      "source": [
        "res= dividir(num2,num1)\n",
        "print(res)"
      ],
      "execution_count": null,
      "outputs": []
    },
    {
      "cell_type": "code",
      "metadata": {
        "id": "Zu71J08AiZK7"
      },
      "source": [
        "def letra_J( caracter ):\n",
        "    print(f\"   {caracter}\")\n",
        "    print(f\"   {caracter}\")\n",
        "   \n",
        "    print(f\" {caracter}{caracter}\")\n",
        "    "
      ],
      "execution_count": 36,
      "outputs": []
    },
    {
      "cell_type": "code",
      "metadata": {
        "colab": {
          "base_uri": "https://localhost:8080/"
        },
        "id": "OiAHIcvNinSf",
        "outputId": "f56265c2-d17b-4920-9ca5-3203cb716689"
      },
      "source": [
        "letra_J(\"+\")"
      ],
      "execution_count": 37,
      "outputs": [
        {
          "output_type": "stream",
          "name": "stdout",
          "text": [
            "   +\n",
            "   +\n",
            " ++\n"
          ]
        }
      ]
    }
  ]
}