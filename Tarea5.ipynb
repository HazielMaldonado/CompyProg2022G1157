{
  "nbformat": 4,
  "nbformat_minor": 0,
  "metadata": {
    "colab": {
      "name": "Tarea5.ipynb",
      "provenance": [],
      "authorship_tag": "ABX9TyMewOTZKr2twV3W3cuvUxUh",
      "include_colab_link": true
    },
    "kernelspec": {
      "name": "python3",
      "display_name": "Python 3"
    },
    "language_info": {
      "name": "python"
    }
  },
  "cells": [
    {
      "cell_type": "markdown",
      "metadata": {
        "id": "view-in-github",
        "colab_type": "text"
      },
      "source": [
        "<a href=\"https://colab.research.google.com/github/HazielMaldonado/CompyProg2022G1157/blob/main/Tarea5.ipynb\" target=\"_parent\"><img src=\"https://colab.research.google.com/assets/colab-badge.svg\" alt=\"Open In Colab\"/></a>"
      ]
    },
    {
      "cell_type": "code",
      "metadata": {
        "colab": {
          "base_uri": "https://localhost:8080/"
        },
        "id": "OJppxFez_pQm",
        "outputId": "a44b3aac-a070-45f0-ae37-57b2622f9108"
      },
      "source": [
        "n1 = int (input(\"Dame un valor:\")) \n",
        "n2 = int (input(\"Dame otro valor:\")) \n",
        "if n1==n2:\n",
        "    print(\"Los valores son iguales\")\n",
        "\n",
        "elif n1 < n2:\n",
        "    print(f\"{n2} es mayor que {n1} \") \n",
        "\n",
        "else:\n",
        "    print(f\"{n1} es mayor que {n2} \")\n"
      ],
      "execution_count": 21,
      "outputs": [
        {
          "output_type": "stream",
          "name": "stdout",
          "text": [
            "Dame un valor:3\n",
            "Dame otro valor:5\n",
            "5 es mayor que 3 \n"
          ]
        }
      ]
    },
    {
      "cell_type": "code",
      "metadata": {
        "colab": {
          "base_uri": "https://localhost:8080/"
        },
        "id": "CATXaylhBQxg",
        "outputId": "81bbe069-6571-43c4-b608-da4d17cccf3d"
      },
      "source": [
        "n1 = int (input(\"Dame un valor:\")) \n",
        "n2 = int (input(\"Dame un segundo valor:\")) \n",
        "n3 = int (input(\"Dame un ultimo valor:\")) \n",
        "if n1 > n2 and n1 > n2:\n",
        "    print(f\"{n1} es mayor que {n2} y {n3} \")\n",
        "elif n2 > n1 and n2 > n3:\n",
        "    print(f\"{n2} es mayor que {n1} y {n3} \")\n",
        "else:\n",
        "    print(f\"{n3} es mayor que {n1} y {n2} \")"
      ],
      "execution_count": 31,
      "outputs": [
        {
          "output_type": "stream",
          "name": "stdout",
          "text": [
            "Dame un valor:2\n",
            "Dame un segundo valor:3\n",
            "Dame un ultimo valor:1\n",
            "3 es mayor que 2 y 1 \n"
          ]
        }
      ]
    },
    {
      "cell_type": "code",
      "metadata": {
        "colab": {
          "base_uri": "https://localhost:8080/"
        },
        "id": "sBJe5QEMEHxm",
        "outputId": "776f01ba-7c5f-4a24-e628-ee3fb6d7fc01"
      },
      "source": [
        "n1 = int (input(\"Dame un valor:\")) \n",
        "n2 = int (input(\"Dame un segundo valor:\")) \n",
        "n3 = int (input(\"Dame un ultimo valor:\")) \n",
        "if n1 < n2 and n1 < n3:\n",
        "    print(f\"{n1} es menor que {n2} y {n3} \")\n",
        "elif n2 < n1 and n2 < n3:\n",
        "    print(f\"{n2} es menor que {n1} y {n3} \")\n",
        "else:\n",
        "    print(f\"{n3} es menor que {n1} y {n2} \")"
      ],
      "execution_count": 34,
      "outputs": [
        {
          "output_type": "stream",
          "name": "stdout",
          "text": [
            "Dame un valor:32\n",
            "Dame un segundo valor:15\n",
            "Dame un ultimo valor:1\n",
            "1 es menor que 32 y 15 \n"
          ]
        }
      ]
    },
    {
      "cell_type": "code",
      "metadata": {
        "colab": {
          "base_uri": "https://localhost:8080/"
        },
        "id": "jThsugcHExv5",
        "outputId": "d132c087-448e-49f9-af45-be6bf8d05f6f"
      },
      "source": [
        "n1 = int (input(\"Dame un valor:\")) \n",
        "n2 = int (input(\"Dame un segundo valor:\")) \n",
        "n3 = int (input(\"Dame un tercer valor:\")) \n",
        "n4 = int (input(\"Dame un ultimo valor:\")) \n",
        "if n1 > n2 and n1 > n3 and n1 > n4 and n2 < n1 and n2 < n3 and n2 < n4 :\n",
        "    print(f\"{n1} es el mayor y {n2}  el menor de todos\")\n",
        "elif n1 > n2 and n1 > n3 and n1 > n4 and n3 < n1 and n3 < n2 and n3 < n4:\n",
        "    print(f\"{n1} es el mayor y {n3}  el menor de todos\")\n",
        "elif n1 > n2 and n1 > n3 and n1 > n4 and n4 < n1 and n4 < n2 and n4 < n3:\n",
        "    print(f\"{n1} es el mayor y {n4}  el menor de todos\")\n",
        "elif n2 > n1 and n2 > n3 and n2 > n4 and n1 < n2  and n1 < n3 and n1 < n4:\n",
        "    print(f\"{n2} es el mayor y {n1}  el menor de todos\")\n",
        "elif n2 > n1 and n2 > n3 and n2 > n4 and n3 < n1  and n3 < n2 and n3 < n4:\n",
        "    print(f\"{n2} es el mayor y {n3}  el menor de todos\")\n",
        "elif n2 > n1 and n2 > n3 and n2 > n4 and n4 < n1  and n4 < n2 and n4 < n3:\n",
        "    print(f\"{n2} es el mayor y {n4}  el menor de todos\")\n",
        "elif n3 > n1 and n3 > n2 and n3 > n4 and n1 < n2  and n1 < n2 and n1 < n3:\n",
        "    print(f\"{n3} es el mayor y {n1}  el menor de todos\")\n",
        "elif n3 > n1 and n3 > n2 and n3 > n4 and n2 < n1 and n2 < n3 and n2 < n4:\n",
        "    print(f\"{n3} es el mayor y {n2}  el menor de todos\")\n",
        "elif n3 > n1 and n3 > n2 and n3 > n4 and n4 < n1  and n4 < n2 and n4 < n3:\n",
        "    print(f\"{n3} es el mayor y {n4}  el menor de todos\")\n",
        "elif n4 > n1 and n4 > n2 and n4 > n1 and n1 < n2  and n1 < n3 and n1 < n4:\n",
        "    print(f\"{n4} es el mayor y {n1}  el menor de todos\")\n",
        "elif n4 > n1 and n4 > n2 and n4 > n1 and n2 < n1 and n2 < n3 and n2 < n4:\n",
        "    print(f\"{n4} es el mayor y {n2}  el menor de todos\")\n",
        "else:\n",
        "    print(f\"{n4} es el mayor y {n3}  el menor de todos\")"
      ],
      "execution_count": 60,
      "outputs": [
        {
          "output_type": "stream",
          "name": "stdout",
          "text": [
            "Dame un valor:25\n",
            "Dame un segundo valor:50\n",
            "Dame un tercer valor:1\n",
            "Dame un ultimo valor:100\n",
            "100 es el mayor y 1  el menor de todos\n"
          ]
        }
      ]
    }
  ]
}