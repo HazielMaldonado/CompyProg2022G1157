{
  "nbformat": 4,
  "nbformat_minor": 0,
  "metadata": {
    "colab": {
      "name": "Fundamentos3 30_Nov_2021_CyP_1157 .ipynb",
      "provenance": [],
      "authorship_tag": "ABX9TyPWkiBoLX+XnsLxdzl78RKb",
      "include_colab_link": true
    },
    "kernelspec": {
      "name": "python3",
      "display_name": "Python 3"
    },
    "language_info": {
      "name": "python"
    }
  },
  "cells": [
    {
      "cell_type": "markdown",
      "metadata": {
        "id": "view-in-github",
        "colab_type": "text"
      },
      "source": [
        "<a href=\"https://colab.research.google.com/github/HazielMaldonado/CompyProg2022G1157/blob/main/Fundamentos3_30_Nov_2021_CyP_1157_.ipynb\" target=\"_parent\"><img src=\"https://colab.research.google.com/assets/colab-badge.svg\" alt=\"Open In Colab\"/></a>"
      ]
    },
    {
      "cell_type": "markdown",
      "metadata": {
        "id": "cdOaT9veFoYM"
      },
      "source": [
        "Repetición:\n",
        "  - Este tipo de estructura nos permite automatizar la ejecución repetitiva de código mientras ciertas condiciones se cumplan, tenemos 3 variantes de esta estructura en todos los lenguajes de programación:\n",
        "    - Desde... hasta (estructura (for)\n",
        "    - haz mientras (estructura While\n",
        "    - haz y luego validaz mientras (estructura Do-While)\n",
        "\n",
        "# FOR CON Python\n",
        "```\n",
        "for j in range (10):\n",
        "    print(f\"Hola {j}\")\n",
        "```\n",
        "\n",
        "# FOR CON Leng C y/o JAVA\n",
        "```\n",
        "for(int j=0; j<10; j=j+1) {\n",
        "    printf(\"Hola %i \\n\", j );\n",
        "}\n",
        "```\n",
        "\n",
        "En todos los lenguajes de programación existe un tipo especial de for, conocido como **for-each**\n",
        "\n",
        "# For-each en Python\n",
        "```\n",
        "for color in colores:\n",
        "    print(f\"Este es el color{color}\")\n",
        "```"
      ]
    },
    {
      "cell_type": "code",
      "metadata": {
        "colab": {
          "base_uri": "https://localhost:8080/"
        },
        "id": "0l__NPpFFO5G",
        "outputId": "193eff5c-cb13-433c-c4fa-0855567a675d"
      },
      "source": [
        "# funcion range()\n",
        "# range(<INICIO>,<STOP>,<INCREMENTO>)\n",
        "x = range(0,10,2)\n",
        "print(x)\n",
        "\n",
        "for j in range(10): # range(0,10) --> 0,1,2,3,4,5,6,7,8,9\n",
        "    print(f\"Hola {j}\")\n",
        "print(\"-.-.-.-.-.\")\n",
        "for j in range(0,10,2): # range(0,10) --> 0,2,4,6,8\n",
        "    print(f\"Hola {j}\")\n",
        "\n",
        "frutas = [\"uva\",\"aguacate\",\"pera\",\"manzana\",\"Sandia\"]\n",
        "print(frutas[0])\n",
        "print(frutas[1])\n",
        "print(frutas[2])\n",
        "print(frutas[3])\n",
        "print(frutas[4])\n",
        "print(\".-.-.--frutas.-.-.-.\")\n",
        "for index in range(5):\n",
        "    print(frutas[index])\n",
        "\n",
        "for j in range(5):\n",
        "    print (\"+++++\")\n",
        "A = [\"+\",\"++\",\"+++\",\"++++\",\"+++++\"]\n",
        "for j in range(5):\n",
        "    print(A[j])\n",
        "\n"
      ],
      "execution_count": null,
      "outputs": [
        {
          "output_type": "stream",
          "name": "stdout",
          "text": [
            "range(0, 10, 2)\n",
            "Hola 0\n",
            "Hola 1\n",
            "Hola 2\n",
            "Hola 3\n",
            "Hola 4\n",
            "Hola 5\n",
            "Hola 6\n",
            "Hola 7\n",
            "Hola 8\n",
            "Hola 9\n",
            "-.-.-.-.-.\n",
            "Hola 0\n",
            "Hola 2\n",
            "Hola 4\n",
            "Hola 6\n",
            "Hola 8\n",
            "uva\n",
            "aguacate\n",
            "pera\n",
            "manzana\n",
            "Sandia\n",
            ".-.-.--frutas.-.-.-.\n",
            "uva\n",
            "aguacate\n",
            "pera\n",
            "manzana\n",
            "Sandia\n",
            "+++++\n",
            "+++++\n",
            "+++++\n",
            "+++++\n",
            "+++++\n",
            "+\n",
            "++\n",
            "+++\n",
            "++++\n",
            "+++++\n"
          ]
        }
      ]
    },
    {
      "cell_type": "markdown",
      "metadata": {
        "id": "aY__RpC1LT_9"
      },
      "source": [
        "+++++\n",
        "+++++\n",
        "+++++\n",
        "+++++\n",
        "+++++\n",
        "+\n",
        "++\n",
        "+++\n",
        "++++\n",
        "+++++"
      ]
    },
    {
      "cell_type": "code",
      "metadata": {
        "colab": {
          "base_uri": "https://localhost:8080/"
        },
        "id": "cXwr-xJ9L-iL",
        "outputId": "cf69d3f1-ca9a-48fa-c36f-99e3ba09ebfc"
      },
      "source": [
        "for x in range(1,20,1):\n",
        "    print(x)\n",
        "print(\"Fin del programa\")\n",
        "\n",
        "for x in range (19,0,-1):\n",
        "    print(x)\n",
        "print(\"Fin del programa\")\n"
      ],
      "execution_count": null,
      "outputs": [
        {
          "output_type": "stream",
          "name": "stdout",
          "text": [
            "1\n",
            "2\n",
            "3\n",
            "4\n",
            "5\n",
            "6\n",
            "7\n",
            "8\n",
            "9\n",
            "10\n",
            "11\n",
            "12\n",
            "13\n",
            "14\n",
            "15\n",
            "16\n",
            "17\n",
            "18\n",
            "19\n",
            "Fin del programa\n",
            "19\n",
            "18\n",
            "17\n",
            "16\n",
            "15\n",
            "14\n",
            "13\n",
            "12\n",
            "11\n",
            "10\n",
            "9\n",
            "8\n",
            "7\n",
            "6\n",
            "5\n",
            "4\n",
            "3\n",
            "2\n",
            "1\n",
            "Fin del programa\n"
          ]
        }
      ]
    },
    {
      "cell_type": "code",
      "metadata": {
        "colab": {
          "base_uri": "https://localhost:8080/"
        },
        "id": "uEHpbvLKNrJz",
        "outputId": "924ada98-e64e-4d47-ac76-5ab6947af2e7"
      },
      "source": [
        "#Ejemplo 3.3\n",
        "CUECER = 0\n",
        "NUM = 0\n",
        "N = int(input(\"Introduce un valor numerico mayor a 1:\"))\n",
        "for I in range ( 1, N+1 , 1 ):\n",
        "    N = int(input(\"Introduce un valor numerico mayor a 1: \"))\n",
        "    if N == 0:\n",
        "        CUECER += 1;\n",
        "print(\"CUECER=\",CUECER)"
      ],
      "execution_count": null,
      "outputs": [
        {
          "output_type": "stream",
          "name": "stdout",
          "text": [
            "Introduce un valor numerico mayor a 1:4\n",
            "Introduce un valor numerico mayor a 1: 0\n",
            "Introduce un valor numerico mayor a 1: 0\n",
            "Introduce un valor numerico mayor a 1: 2\n",
            "Introduce un valor numerico mayor a 1: 2\n",
            "CUECER= 2\n"
          ]
        }
      ]
    },
    {
      "cell_type": "markdown",
      "metadata": {
        "id": "hPOa27qIQyAH"
      },
      "source": [
        "7 X 1 = 7\n",
        "7 X 2 = 14\n",
        "...\n",
        "7 X 10 = 70"
      ]
    },
    {
      "cell_type": "code",
      "metadata": {
        "colab": {
          "base_uri": "https://localhost:8080/"
        },
        "id": "urhdbzT0Q728",
        "outputId": "ca44c5f5-d804-4721-a33e-354404c82018"
      },
      "source": [
        "n=7\n",
        "for i in range (1, 11, 1 ):\n",
        "    x=n*i\n",
        "    print(f\"{n} X {i} =\",x)"
      ],
      "execution_count": null,
      "outputs": [
        {
          "output_type": "stream",
          "name": "stdout",
          "text": [
            "7 X 1 = 7\n",
            "7 X 2 = 14\n",
            "7 X 3 = 21\n",
            "7 X 4 = 28\n",
            "7 X 5 = 35\n",
            "7 X 6 = 42\n",
            "7 X 7 = 49\n",
            "7 X 8 = 56\n",
            "7 X 9 = 63\n",
            "7 X 10 = 70\n"
          ]
        }
      ]
    },
    {
      "cell_type": "markdown",
      "metadata": {
        "id": "0RY4FydRR4ko"
      },
      "source": [
        "¿Dame un numero entre 1 y 5?: 2\n",
        "¿Dame un numero entre 2 y 10? 6\n"
      ]
    },
    {
      "cell_type": "code",
      "metadata": {
        "colab": {
          "base_uri": "https://localhost:8080/"
        },
        "id": "Bqs3P1tYSK3Z",
        "outputId": "77c03eef-4593-4a60-ffa3-d513100429f4"
      },
      "source": [
        "A = int(input(\"Introduce un valor entre 1 y 5: \"))\n",
        "if A > 0 and A <=5:\n",
        "    B= int(input(f\"Dame un valor entre {A} y 10: \"))\n",
        "    if  B >= A and B <= 10:\n",
        "        for i in range (A ,B+1 , 1):\n",
        "            for j in range (1,11):\n",
        "                print(f\"{i} X {j} = \", i*j)\n",
        "            print(\"---------\")\n",
        "    else:\n",
        "        print(\"Valor fuera de rango\")\n",
        "else:\n",
        "    print(\"Valor fuera de rango\")"
      ],
      "execution_count": null,
      "outputs": [
        {
          "output_type": "stream",
          "name": "stdout",
          "text": [
            "Introduce un valor entre 1 y 5: 5\n",
            "Dame un valor entre 5 y 10: 6\n",
            "5 X 1 =  5\n",
            "5 X 2 =  10\n",
            "5 X 3 =  15\n",
            "5 X 4 =  20\n",
            "5 X 5 =  25\n",
            "5 X 6 =  30\n",
            "5 X 7 =  35\n",
            "5 X 8 =  40\n",
            "5 X 9 =  45\n",
            "5 X 10 =  50\n",
            "---------\n",
            "6 X 1 =  6\n",
            "6 X 2 =  12\n",
            "6 X 3 =  18\n",
            "6 X 4 =  24\n",
            "6 X 5 =  30\n",
            "6 X 6 =  36\n",
            "6 X 7 =  42\n",
            "6 X 8 =  48\n",
            "6 X 9 =  54\n",
            "6 X 10 =  60\n",
            "---------\n"
          ]
        }
      ]
    },
    {
      "cell_type": "code",
      "metadata": {
        "colab": {
          "base_uri": "https://localhost:8080/"
        },
        "id": "9Tv0e8FSWqFY",
        "outputId": "d7536166-dc30-4cfb-f627-4ffd7e498ab4"
      },
      "source": [
        "# generadores de listas\n",
        "numeros = [0,0,0,0,0,0,0]\n",
        "print(numeros)\n",
        "numeros = [0 for x in range (5)]\n",
        "print(numeros)\n",
        "#empleando la variable de control x para el valor inicial\n",
        "numeros = [x for x in range (5)]\n",
        "print(numeros)\n",
        "# 10, 20 ,30 ,40,50 ,...\n",
        "numeros = [(x+1)*10 for x in range (10)]\n",
        "print(numeros)\n",
        "print(\".-.-.-.-\")\n",
        "numeros = [x for x in range (10,101,10)]\n",
        "print(numeros)\n",
        "print(\".-.-.-.-\")\n",
        "numeros = [x*10 for x in range (1,11)]\n",
        "print(numeros)"
      ],
      "execution_count": null,
      "outputs": [
        {
          "output_type": "stream",
          "name": "stdout",
          "text": [
            "[0, 0, 0, 0, 0, 0, 0]\n",
            "[0, 0, 0, 0, 0]\n",
            "[0, 1, 2, 3, 4]\n",
            "[10, 20, 30, 40, 50, 60, 70, 80, 90, 100]\n",
            ".-.-.-.-\n",
            "[10, 20, 30, 40, 50, 60, 70, 80, 90, 100]\n",
            ".-.-.-.-\n",
            "[10, 20, 30, 40, 50, 60, 70, 80, 90, 100]\n"
          ]
        }
      ]
    },
    {
      "cell_type": "code",
      "metadata": {
        "colab": {
          "base_uri": "https://localhost:8080/"
        },
        "id": "omIcbGwoYQvv",
        "outputId": "0f3c9ca4-a6dc-437d-e2e6-bb805dc8d282"
      },
      "source": [
        "#ejercicio: calcular promedio de edades\n",
        "suma = 0\n",
        "edades = [0 for x in range(5)]\n",
        "for x in range (5):\n",
        "    edades [x]= int(input(\"Dame tu edad:\"))\n",
        "    suma = suma + edades [x]\n",
        "print(edades)\n",
        "print(\"promedio:\", suma/5)\n",
        "\n",
        "\n"
      ],
      "execution_count": null,
      "outputs": [
        {
          "output_type": "stream",
          "name": "stdout",
          "text": [
            "Dame tu edad:8\n",
            "Dame tu edad:8\n",
            "Dame tu edad:8\n",
            "Dame tu edad:8\n",
            "Dame tu edad:8\n",
            "[8, 8, 8, 8, 8]\n",
            "promedio: 8.0\n"
          ]
        }
      ]
    },
    {
      "cell_type": "code",
      "metadata": {
        "colab": {
          "base_uri": "https://localhost:8080/"
        },
        "id": "jHZ4cUtvbiLy",
        "outputId": "87eef0b5-7748-405a-b88f-e6847c8809cd"
      },
      "source": [
        "edades= [0 for x in range (5)]\n",
        "edades[0] = int(input(\"Dame una edad:\"))\n",
        "print(edades12)"
      ],
      "execution_count": null,
      "outputs": [
        {
          "output_type": "stream",
          "name": "stdout",
          "text": [
            "Da,e una edad:1215\n",
            "[1215, 0, 0, 0, 0]\n"
          ]
        }
      ]
    },
    {
      "cell_type": "code",
      "metadata": {
        "colab": {
          "base_uri": "https://localhost:8080/"
        },
        "id": "6QFQQY4OcT6z",
        "outputId": "a447bfaa-0aff-4146-a8f0-f6b708d329c7"
      },
      "source": [
        "import random\n",
        "print(random.random())\n",
        "print(random.uniform(5,11))\n",
        "val= round(random.uniform(5,11),2)\n",
        "print(val)\n",
        "\n",
        "valores = [round(random.uniform(5,11),2) for x in range(20)]\n",
        "print(valores)"
      ],
      "execution_count": null,
      "outputs": [
        {
          "output_type": "stream",
          "name": "stdout",
          "text": [
            "0.28569258914017404\n",
            "8.167205158934081\n",
            "8.44\n",
            "[10.41, 7.24, 10.84, 6.57, 7.12, 7.57, 5.17, 7.39, 7.35, 7.6, 9.04, 10.58, 7.27, 10.19, 8.47, 7.29, 9.49, 7.78, 7.13, 10.66]\n"
          ]
        }
      ]
    },
    {
      "cell_type": "markdown",
      "metadata": {
        "id": "_n76wTLo5-2N"
      },
      "source": [
        "## Estructuro de control de repetición HAz- mientras\n",
        "\n",
        "Una estructura de control haz- mientras nos permite ejecutar repetidamente mientras una condición se siga cumpliendo\n",
        "\n",
        "Sintaxis \n",
        "```\n",
        "while <condición>\n",
        "    <Bloque de sentencias a ejecutar repetidamente>\n",
        "<siguiente sentencia posterior a while>\n",
        "```\n",
        "La diferencia principal en comparación con la estructura for es que con WHILE **No conoces** el número de cilcos a ejecutar, en for si se conoce.\n",
        "\n",
        "###Cómo ejemplo inicemos con el siguiente enunciado.\n",
        "Hacer un programa que solicite un valor entero positivo y calcule repetidamente la mitad y se reasigne a la misma variable. El ciclo se debe detener cuando el resultado sea menor que 1.\n",
        "Mostrar en pantalla el resultado de cada cálculo y al final el numero de iteraciones que realizó\n",
        "\n",
        "```\n",
        "Introduce un numero positivo: 17\n",
        "8.5\n",
        "4.25\n",
        "2.12\n",
        "1.03\n",
        "0.53\n",
        "Total de iteraciones =5\n",
        "```\n",
        "\n",
        "\n"
      ]
    },
    {
      "cell_type": "code",
      "metadata": {
        "colab": {
          "base_uri": "https://localhost:8080/"
        },
        "id": "Sae5fnhP7yqj",
        "outputId": "dcba7424-0f36-4794-e084-c7042f134e4f"
      },
      "source": [
        "valor = int(input(\"introduce un numero entero positivo:\"))\n",
        "contador = 0\n",
        "if valor > 0:\n",
        "    while valor > 1.0:\n",
        "        valor = valor /2\n",
        "        print(round(valor,2))\n",
        "        contador +=1\n",
        "else:\n",
        "    print(\"El numero es negativo, intenta de nuevo\")\n",
        "print((\"Total de iteraciones=\",contador))\n"
      ],
      "execution_count": null,
      "outputs": [
        {
          "output_type": "stream",
          "name": "stdout",
          "text": [
            "introduce un numero entero positivo:5\n",
            "2.5\n",
            "1.25\n",
            "0.62\n",
            "('Total de iteraciones=', 3)\n"
          ]
        }
      ]
    },
    {
      "cell_type": "code",
      "metadata": {
        "colab": {
          "base_uri": "https://localhost:8080/"
        },
        "id": "PnXqMoxj8nMN",
        "outputId": "2c3cf367-93e0-4e0f-9401-8106156dd25a"
      },
      "source": [
        "valor = int(input(\"Dame un valor entero:\"))\n",
        "\n",
        "while valor !=0:\n",
        "    print(valor)\n",
        "    valor = int(input(\"Dame un valor entero:\"))\n",
        "print(\"Fin del pograma\")"
      ],
      "execution_count": null,
      "outputs": [
        {
          "output_type": "stream",
          "name": "stdout",
          "text": [
            "Dame un valor entero:2\n",
            "2\n",
            "Dame un valor entero:0\n",
            "Fin del pograma\n"
          ]
        }
      ]
    },
    {
      "cell_type": "code",
      "metadata": {
        "colab": {
          "base_uri": "https://localhost:8080/"
        },
        "id": "Yd8FdtDk9QmA",
        "outputId": "fbc4f108-74c8-43bc-af9e-d62c9a2bb06e"
      },
      "source": [
        "valor = int(input(\"Dame un valor entero:\"))\n",
        "while valor != 0:\n",
        "    print(valor)\n",
        "    print(\"Otras cosas\")\n",
        "print(\"Fin del programa\")"
      ],
      "execution_count": null,
      "outputs": [
        {
          "output_type": "stream",
          "name": "stdout",
          "text": [
            "Dame un valor entero:0\n",
            "Fin del programa\n"
          ]
        }
      ]
    },
    {
      "cell_type": "markdown",
      "metadata": {
        "id": "ouPbl9MP_lX5"
      },
      "source": [
        "Escribe un programa que perimta generar la tabla de multiplica de un número entero positivo N, comenzando desde 1.\n",
        "\n",
        "Si el usuario escribe un número incorrecto, el programa no se ejecuta. En cambio se pregunta de nuevo por la info hasta que el dato ingresado sea el correcto"
      ]
    },
    {
      "cell_type": "code",
      "metadata": {
        "colab": {
          "base_uri": "https://localhost:8080/"
        },
        "id": "JLFnxWffBtuH",
        "outputId": "996a14b1-ffe9-4a3b-fd79-d4a16831bd71"
      },
      "source": [
        "n= int(input(\"Dame un valor\"))\n",
        "multi = 1\n",
        "if N>0 and N:\n",
        "    print(\"Es correcto\")\n",
        "    for i in range (1,11):\n",
        "        print(n,\"por\",i,\"es igual a:\", n*i)\n",
        "\n",
        "\n",
        "else:\n",
        "    print(\"El numero ingresado no es correcto\")"
      ],
      "execution_count": null,
      "outputs": [
        {
          "output_type": "stream",
          "name": "stdout",
          "text": [
            "Dame un valor2\n",
            "Es correcto\n",
            "2 por 1 es igual a: 2\n",
            "2 por 2 es igual a: 4\n",
            "2 por 3 es igual a: 6\n",
            "2 por 4 es igual a: 8\n",
            "2 por 5 es igual a: 10\n",
            "2 por 6 es igual a: 12\n",
            "2 por 7 es igual a: 14\n",
            "2 por 8 es igual a: 16\n",
            "2 por 9 es igual a: 18\n",
            "2 por 10 es igual a: 20\n"
          ]
        }
      ]
    },
    {
      "cell_type": "code",
      "metadata": {
        "id": "OFdymXwUHiwG"
      },
      "source": [
        "comprobar= True\n",
        "while comprobar == True:\n",
        "    n = int(input(\"Dame un valor\"))\n",
        "    if n>0 :\n",
        "        i=1   #se inicializa el valor en 1\n",
        "        while i<11:\n",
        "            print(n,\"por\",i,\"es igual a\", n*i)\n",
        "            i+=1 #i va a ser igual a la misma vairable más 1\n",
        "        \n",
        "        comprobar=False\n",
        "\n",
        "\n",
        "\n",
        "    else:\n",
        "        print(\"El numero ingresado no es correcto\")"
      ],
      "execution_count": null,
      "outputs": []
    },
    {
      "cell_type": "code",
      "metadata": {
        "id": "7_cO3vVhCWiX"
      },
      "source": [
        "comprobar= True\n",
        "while comprobar == True:\n",
        "    n = int(input(\"Dame un valor\"))\n",
        "    if n>0 and n:\n",
        "        print(\"Es correcto\")\n",
        "        for i in range (1,11):\n",
        "            print(n,\"por\",i,\"es igual a:\", n*i)\n",
        "        \n",
        "        comprobar=False\n",
        "\n",
        "\n",
        "\n",
        "    else:\n",
        "        print(\"El numero ingresado no es correcto\")\n"
      ],
      "execution_count": null,
      "outputs": []
    },
    {
      "cell_type": "code",
      "metadata": {
        "colab": {
          "base_uri": "https://localhost:8080/"
        },
        "id": "kJbmaqMl_0-1",
        "outputId": "85e56695-9f98-4824-d818-d5975e62392b"
      },
      "source": [
        "N= int(input(\"Dame un valor\"))\n",
        "multi = 1\n",
        "if N>0 and N:\n",
        "    print(\"Es correcto\")\n",
        "    while N >1:\n",
        "        Resultado = N*multi\n",
        "        print(f\"{N}X{multi}={Resultado}\")\n",
        "        multi +=1\n",
        "\n",
        "else:\n",
        "    print(\"El numero ingresado no es correcto\")"
      ],
      "execution_count": null,
      "outputs": [
        {
          "output_type": "stream",
          "name": "stdout",
          "text": [
            "Dame un valor0\n",
            "El numero ingresado no es correcto\n"
          ]
        }
      ]
    },
    {
      "cell_type": "markdown",
      "metadata": {
        "id": "oUmRehPTKdIO"
      },
      "source": [
        "Escribe un programa que al recibir como dato un número entero positivo N, calcule el resultado de la siguiente serie\n",
        "1+(1/2)+(1/3)+(1/4)...+(1/N)\n",
        "Si el usuario escribe un número incorrecto, el programa no se ejecuta. En cambio pregunta de nuevo por la información hasta que el dato ingresado sea correcto."
      ]
    },
    {
      "cell_type": "code",
      "metadata": {
        "colab": {
          "base_uri": "https://localhost:8080/"
        },
        "id": "s5DiDREqKavr",
        "outputId": "dab7a09d-b1f0-4f60-9ee1-046348e9c9ce"
      },
      "source": [
        "comprobar=True\n",
        "while comprobar ==True\n",
        "N= int(input(\"Dame un valor:\"))\n",
        "\n",
        "if N>0:\n",
        "    comprobar = False \n",
        "    resultado =0\n",
        "    for i in range(1,N+1):\n",
        "        resultado  +=(1/i)\n",
        "        print(\"el resultado de la serie es:\",resultado)\n",
        "else:\n",
        "    print(\"el numero ingresado no es correcto\")"
      ],
      "execution_count": null,
      "outputs": [
        {
          "output_type": "stream",
          "name": "stdout",
          "text": [
            "Dame un valor:-6\n",
            "el numero ingresado no es correcto\n"
          ]
        }
      ]
    }
  ]
}