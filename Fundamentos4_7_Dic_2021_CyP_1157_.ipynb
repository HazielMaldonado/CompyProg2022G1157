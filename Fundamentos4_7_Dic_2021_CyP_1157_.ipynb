{
  "nbformat": 4,
  "nbformat_minor": 0,
  "metadata": {
    "colab": {
      "name": "Fundamentos4 7_Dic_2021_CyP_1157 .ipynb",
      "provenance": [],
      "authorship_tag": "ABX9TyNJeBBoWp9ial//FEq/FgDK",
      "include_colab_link": true
    },
    "kernelspec": {
      "name": "python3",
      "display_name": "Python 3"
    },
    "language_info": {
      "name": "python"
    }
  },
  "cells": [
    {
      "cell_type": "markdown",
      "metadata": {
        "id": "view-in-github",
        "colab_type": "text"
      },
      "source": [
        "<a href=\"https://colab.research.google.com/github/HazielMaldonado/CompyProg2022G1157/blob/main/Fundamentos4_7_Dic_2021_CyP_1157_.ipynb\" target=\"_parent\"><img src=\"https://colab.research.google.com/assets/colab-badge.svg\" alt=\"Open In Colab\"/></a>"
      ]
    },
    {
      "cell_type": "markdown",
      "metadata": {
        "id": "QQ5IltSlUGwD"
      },
      "source": [
        "# Modularidad (Funciones)\n",
        "Una funcion es una unidad de código reutilizable, además de ser un mecanismo para organizar código.\n",
        "\n",
        "La gran ventaja de emplear funciones es simplificar la programación.\n",
        "\n",
        "### Estructura \n",
        "Una función puede tomar cualquier cantidad de parametros de entrada (de cualquier tipo) y retornar unicamente un sólo valor.\n",
        "Un parámetro de entrada es un valor que recibe la función para realizar sus operaciones.\n",
        "\n",
        "Con una funcion se pueden hacer 2 cosas:\n",
        "1.Definirla\n",
        "2.-invocarla( ejecutarla)\n",
        "\n",
        "la gran ventaja es que la defines una vez y la puedes hacer muchas veces"
      ]
    },
    {
      "cell_type": "code",
      "metadata": {
        "id": "tcH6P6v-UDU0"
      },
      "source": [
        "def sumar ( op1, op2 ):\n",
        "    res = op1 + op2\n",
        "    return res"
      ],
      "execution_count": null,
      "outputs": []
    },
    {
      "cell_type": "code",
      "metadata": {
        "colab": {
          "base_uri": "https://localhost:8080/"
        },
        "id": "Q-5hj0tGYFW7",
        "outputId": "88a293d4-773d-4c09-a5cb-376dcf433b45"
      },
      "source": [
        "res = sumar(2, 5)\n",
        "print(res)\n",
        "res=sumar(33,22)\n",
        "print(res)"
      ],
      "execution_count": null,
      "outputs": [
        {
          "output_type": "stream",
          "name": "stdout",
          "text": [
            "7\n",
            "55\n"
          ]
        }
      ]
    },
    {
      "cell_type": "code",
      "metadata": {
        "colab": {
          "base_uri": "https://localhost:8080/"
        },
        "id": "RVUpwDdPZV0i",
        "outputId": "a9ebfb32-d378-412a-c32d-f1edaf295b09"
      },
      "source": [
        "print(\"hola\",\"Jesus\",sep=\"-\")"
      ],
      "execution_count": null,
      "outputs": [
        {
          "output_type": "stream",
          "name": "stdout",
          "text": [
            "hola-Jesus\n"
          ]
        }
      ]
    },
    {
      "cell_type": "code",
      "metadata": {
        "colab": {
          "base_uri": "https://localhost:8080/"
        },
        "id": "BTv3SB-EaQbB",
        "outputId": "223c116f-b977-4ea9-d513-dc6199af63ac"
      },
      "source": [
        "def imprime_cuadro():\n",
        "    print(\"****\")\n",
        "    print(\"****\")\n",
        "    print(\"****\")\n",
        "    print(\"****\")\n",
        "    #return None\n",
        "imprime_cuadro()"
      ],
      "execution_count": null,
      "outputs": [
        {
          "output_type": "stream",
          "name": "stdout",
          "text": [
            "****\n",
            "****\n",
            "****\n",
            "****\n"
          ]
        }
      ]
    },
    {
      "cell_type": "markdown",
      "metadata": {
        "id": "3kYW4R2NbDJS"
      },
      "source": [
        "# Valor de retorno de una función\n",
        "regla de oro.- Una funcionsiempre returna UN SOLO VALOR. inclusive si ese valor es el vacío."
      ]
    },
    {
      "cell_type": "code",
      "metadata": {
        "colab": {
          "base_uri": "https://localhost:8080/"
        },
        "id": "KvehW38NbLnQ",
        "outputId": "cf605c0d-64bc-414d-e674-97f29cd190ca"
      },
      "source": [
        "#invocar sumar\n",
        "res =sumar(7 , 8)\n",
        "print(res)\n",
        "#invocar la funcion pintar cuadro\n",
        "res = imprime_cuadro()\n",
        "print(res)"
      ],
      "execution_count": null,
      "outputs": [
        {
          "output_type": "stream",
          "name": "stdout",
          "text": [
            "15\n",
            "****\n",
            "****\n",
            "****\n",
            "****\n",
            "None\n"
          ]
        }
      ]
    },
    {
      "cell_type": "markdown",
      "metadata": {
        "id": "e4aj8F-YdScT"
      },
      "source": [
        "#La palabra reservada None de python\n",
        "Esta palabra reservada significa vacío, equivalente a la palabra reservada void del lenguajes C, C++ y Java.\n",
        "\n",
        "Se usa ára indiciar ya sea un return vacio o que se recibe como parametro un vacío."
      ]
    },
    {
      "cell_type": "code",
      "metadata": {
        "id": "ZH0-IAxxd5FH"
      },
      "source": [
        "def multiplicar( valor, veces):\n",
        "    if valor == None:\n",
        "        c=-1\n",
        "    else:\n",
        "        c = valor*veces\n",
        "    return c"
      ],
      "execution_count": null,
      "outputs": []
    },
    {
      "cell_type": "code",
      "metadata": {
        "colab": {
          "base_uri": "https://localhost:8080/"
        },
        "id": "WdlGxjymeI8r",
        "outputId": "c64ced04-0def-482a-d00b-68df93f7c4f3"
      },
      "source": [
        "res= multiplicar (None,5)\n",
        "print(res)"
      ],
      "execution_count": null,
      "outputs": [
        {
          "output_type": "stream",
          "name": "stdout",
          "text": [
            "-1\n"
          ]
        }
      ]
    },
    {
      "cell_type": "markdown",
      "metadata": {
        "id": "oMu836LdfaPo"
      },
      "source": [
        "# Parametros y argumentos.\n",
        "Son conceptos relacionados y su diferencia esta centrada en el momento que se emplea en una función.\n",
        "\n",
        "Es decir en la función sumar de arriba, cuando se declara se le llama parámetro y cuando se invoca se le llama argumento"
      ]
    },
    {
      "cell_type": "markdown",
      "metadata": {
        "id": "ci_sAEWBggVq"
      },
      "source": [
        "# argumentos posicionales\n",
        "En python es psoible determinar a que parámetros están dirigidos los argumentos, según su posición."
      ]
    },
    {
      "cell_type": "code",
      "metadata": {
        "id": "0r8M5Azggqbu"
      },
      "source": [
        "def dividir( op1, op2 ):\n",
        "    c= op1/ op2\n",
        "    return c"
      ],
      "execution_count": null,
      "outputs": []
    },
    {
      "cell_type": "code",
      "metadata": {
        "colab": {
          "base_uri": "https://localhost:8080/"
        },
        "id": "eENaoZ2tg0y2",
        "outputId": "7a2d647b-9980-4d8c-c711-df9c07b5cdc6"
      },
      "source": [
        "num1 = 25\n",
        "num2 = 5\n",
        "res= dividir(num1,num2)\n",
        "print(res)\n",
        "res= dividir(num2,num1)\n",
        "print(res)"
      ],
      "execution_count": null,
      "outputs": [
        {
          "output_type": "stream",
          "name": "stdout",
          "text": [
            "5.0\n",
            "0.2\n"
          ]
        }
      ]
    },
    {
      "cell_type": "markdown",
      "metadata": {
        "id": "Ec3e8s46hSvt"
      },
      "source": [
        "# Argumentos con palabras clave(keywords)\n",
        "\n",
        "Es la posibilidad de indicarle a la función en tiempo de ejecución a que parámetro va dirigido un argumento de entrada.\n",
        "Solo disponible en python"
      ]
    },
    {
      "cell_type": "code",
      "metadata": {
        "id": "6XYqXp8bhudk"
      },
      "source": [
        "res= dividir(num2,num1)\n",
        "print(res)"
      ],
      "execution_count": null,
      "outputs": []
    },
    {
      "cell_type": "code",
      "metadata": {
        "id": "Zu71J08AiZK7"
      },
      "source": [
        "def letra_J( caracter ):\n",
        "    print(f\"   {caracter}\")\n",
        "    print(f\"   {caracter}\")\n",
        "   \n",
        "    print(f\" {caracter}{caracter}\")\n",
        "    "
      ],
      "execution_count": null,
      "outputs": []
    },
    {
      "cell_type": "code",
      "metadata": {
        "colab": {
          "base_uri": "https://localhost:8080/"
        },
        "id": "OiAHIcvNinSf",
        "outputId": "f56265c2-d17b-4920-9ca5-3203cb716689"
      },
      "source": [
        "letra_J(\"+\")"
      ],
      "execution_count": null,
      "outputs": [
        {
          "output_type": "stream",
          "name": "stdout",
          "text": [
            "   +\n",
            "   +\n",
            " ++\n"
          ]
        }
      ]
    },
    {
      "cell_type": "markdown",
      "source": [
        "#Argumento por defecto\n",
        "Es la capacidad de las funciones de establecer un valor de defecto\n",
        "Si no se envía un argumento a dicho parámetro, entonces se asigna el que el programa asigno como default"
      ],
      "metadata": {
        "id": "Og34Ahz0-Ff5"
      }
    },
    {
      "cell_type": "code",
      "source": [
        "def dividir(op1,op2=2):\n",
        "    c = op1/op2\n",
        "    return c\n",
        "\n",
        "print(dividir(25))"
      ],
      "metadata": {
        "colab": {
          "base_uri": "https://localhost:8080/"
        },
        "id": "dINK4H1i-jD2",
        "outputId": "381209b4-7afe-4c42-8b63-4f2bd20cf8b1"
      },
      "execution_count": 2,
      "outputs": [
        {
          "output_type": "stream",
          "name": "stdout",
          "text": [
            "12.5\n"
          ]
        }
      ]
    },
    {
      "cell_type": "markdown",
      "source": [
        "Este concepto se puede ejemplificar con la función **print**"
      ],
      "metadata": {
        "id": "bzYbMvGC_Fy_"
      }
    },
    {
      "cell_type": "code",
      "source": [
        "help(print)"
      ],
      "metadata": {
        "colab": {
          "base_uri": "https://localhost:8080/"
        },
        "id": "1CENLuJ6_PpL",
        "outputId": "2ba7f04e-1477-437e-a5d3-f9ba4c0ac1e6"
      },
      "execution_count": 3,
      "outputs": [
        {
          "output_type": "stream",
          "name": "stdout",
          "text": [
            "Help on built-in function print in module builtins:\n",
            "\n",
            "print(...)\n",
            "    print(value, ..., sep=' ', end='\\n', file=sys.stdout, flush=False)\n",
            "    \n",
            "    Prints the values to a stream, or to sys.stdout by default.\n",
            "    Optional keyword arguments:\n",
            "    file:  a file-like object (stream); defaults to the current sys.stdout.\n",
            "    sep:   string inserted between values, default a space.\n",
            "    end:   string appended after the last value, default a newline.\n",
            "    flush: whether to forcibly flush the stream.\n",
            "\n"
          ]
        }
      ]
    },
    {
      "cell_type": "code",
      "source": [
        "nombre = \"Jose\"\n",
        "edad=18\n",
        "print(nombre,edad,sep=\":)\")\n",
        "print(\"Hola\", end=\" \")\n",
        "print(\"-----\")"
      ],
      "metadata": {
        "colab": {
          "base_uri": "https://localhost:8080/"
        },
        "id": "5y_zwz2g_vED",
        "outputId": "862a91b1-bc90-450a-c4a2-4c72ed37dced"
      },
      "execution_count": 6,
      "outputs": [
        {
          "output_type": "stream",
          "name": "stdout",
          "text": [
            "Jose:)18\n",
            "Hola -----\n"
          ]
        }
      ]
    },
    {
      "cell_type": "markdown",
      "source": [
        "#Ejercicio de argumentos posicionales"
      ],
      "metadata": {
        "id": "zExL3nFDAwFH"
      }
    },
    {
      "cell_type": "code",
      "source": [
        "def comanda(comensal=1,primer=\"Consome\",segundo=\"Arroz rojo\", tercero=\"Enchiladas\"):\n",
        "    print(f\"El comensal {comensal} quiere:\")\n",
        "    print(\"\\t Entrada:\",primer)\n",
        "    print(\"\\t Medio:\",segundo)\n",
        "    print(\"\\t Plato fuerte:\",tercero)\n",
        "\n",
        "comanda()\n",
        "comanda(3,\"Ensalada\",\"arroz blanco\",\"Esparragos al horno\")\n",
        "comanda(\"arroz blanco\",\"Esparagos al horno\",\"Ensalada\",3)\n",
        "#raarajrkajrlksajrklasjra\n",
        "comanda(segundo=\"Arroz blanco\",tercero=\"Esparragos al horno\",primer=\"Ensalada\",comensal=3)"
      ],
      "metadata": {
        "colab": {
          "base_uri": "https://localhost:8080/"
        },
        "id": "j6gIwM7_Az-i",
        "outputId": "1551af37-a8d7-4f93-f085-2cb4d4310eac"
      },
      "execution_count": 19,
      "outputs": [
        {
          "output_type": "stream",
          "name": "stdout",
          "text": [
            "El comensal 1 quiere:\n",
            "\t Entrada: Consome\n",
            "\t Medio: Arroz rojo\n",
            "\t Plato fuerte: Enchiladas\n",
            "El comensal 3 quiere:\n",
            "\t Entrada: Ensalada\n",
            "\t Medio: arroz blanco\n",
            "\t Plato fuerte: Esparragos al horno\n",
            "El comensal arroz blanco quiere:\n",
            "\t Entrada: Esparagos al horno\n",
            "\t Medio: Ensalada\n",
            "\t Plato fuerte: 3\n",
            "El comensal 3 quiere:\n",
            "\t Entrada: Ensalada\n",
            "\t Medio: Arroz blanco\n",
            "\t Plato fuerte: Esparragos al horno\n"
          ]
        }
      ]
    },
    {
      "cell_type": "markdown",
      "source": [
        "#Argumentos enviados en grupo en una tupla\n",
        "Esto sirve para enviar multiples argumentos a una funcion empleando el comodín\".\n",
        "```\n",
        "def mifun(args*):\n",
        ">cuerpo de la func>\n",
        "\n",
        "```"
      ],
      "metadata": {
        "id": "xVPTao-iEPcy"
      }
    },
    {
      "cell_type": "code",
      "source": [
        "def comanda2(*opciones):\n",
        "    print(opciones)\n",
        "    print(f\"El comensal:{opciones[0]}pidio:\")\n",
        "    print(\"\\tEntrada:\",opciones[1])\n",
        "    print(\"\\tSegundo:\",opciones[2])\n",
        "    print(\"\\tPlato fuerte:\",opciones[3])\n",
        "    print(\"\\indicaciones extra:\")\n",
        "    for instruccion in opciones[4::]:\n",
        "        print(\"\\n\",instruccion)\n",
        "comanda2(1,\"Sopa de fideo\",\"Arroz\",\"Pechuga asada\")"
      ],
      "metadata": {
        "colab": {
          "base_uri": "https://localhost:8080/"
        },
        "id": "BEXQ0x2_EeLY",
        "outputId": "ab871979-35bc-4d5e-d5f4-75c5677eff52"
      },
      "execution_count": 24,
      "outputs": [
        {
          "output_type": "stream",
          "name": "stdout",
          "text": [
            "(1, 'Sopa de fideo', 'Arroz', 'Pechuga asada')\n",
            "El comensal:1pidio:\n",
            "\tEntrada: Sopa de fideo\n",
            "\tSegundo: Arroz\n",
            "\tPlato fuerte: Pechuga asada\n",
            "\\indicaciones extra:\n"
          ]
        }
      ]
    },
    {
      "cell_type": "markdown",
      "source": [
        "#Argumentos enviados en grupo en un diccionario.\n",
        "Es el mismo concepto que el anterior pero se usa el comdin ** y se mapea a un diccionario"
      ],
      "metadata": {
        "id": "98ogfm1XG8v2"
      }
    },
    {
      "cell_type": "code",
      "source": [
        "def comanda3(**opciones):\n",
        "    print(opciones)\n",
        "    print(f\"El comensal{opciones ['comensal']} pidío:\")\n",
        "comanda3(segundo=\"arroz blanco\",tercero=\"Esparragos al horno\",primer=\"Ensalada\",comensal=3)"
      ],
      "metadata": {
        "colab": {
          "base_uri": "https://localhost:8080/"
        },
        "id": "0iyN_BoyHUB9",
        "outputId": "abd54246-d230-4086-e797-afb725aaa515"
      },
      "execution_count": 28,
      "outputs": [
        {
          "output_type": "stream",
          "name": "stdout",
          "text": [
            "{'segundo': 'arroz blanco', 'tercero': 'Esparragos al horno', 'primer': 'Ensalada', 'comensal': 3}\n",
            "El comensal3 pidío:\n"
          ]
        }
      ]
    },
    {
      "cell_type": "code",
      "source": [
        "def comanda3(**opciones):\n",
        "    ops= opciones.keys()\n",
        "    for key in ops:\n",
        "        print(f\"{key} = {opciones[key]} \" )\n",
        "comanda3(segundo=\"arroz blanco\",tercero=\"Esparragos al horno\",primer=\"Ensalada\",comensal=3)"
      ],
      "metadata": {
        "colab": {
          "base_uri": "https://localhost:8080/"
        },
        "id": "RW2uXUUaI5xQ",
        "outputId": "7f89b837-8d11-4745-9634-a918b8cc2ed6"
      },
      "execution_count": 29,
      "outputs": [
        {
          "output_type": "stream",
          "name": "stdout",
          "text": [
            "segundo = arroz blanco \n",
            "tercero = Esparragos al horno \n",
            "primer = Ensalada \n",
            "comensal = 3 \n"
          ]
        }
      ]
    },
    {
      "cell_type": "code",
      "source": [
        "#modularidad y bibliotecas.\n",
        "Todos los lenguajes de programación tienen la capacidad de compartir \n",
        "codigo entre la comunidad de programadores\n",
        "\n",
        "Pra ello cada lenguaje establece un mecanismo para escribir y compartir bibliotecas."
      ],
      "metadata": {
        "id": "OmJh9nyWJlkt"
      },
      "execution_count": null,
      "outputs": []
    },
    {
      "cell_type": "code",
      "source": [
        "!pip install simple_chalk\n"
      ],
      "metadata": {
        "colab": {
          "base_uri": "https://localhost:8080/"
        },
        "id": "5f2nKDSyMD_Q",
        "outputId": "98bd3c8b-c46c-4281-b844-02184c787ad9"
      },
      "execution_count": 32,
      "outputs": [
        {
          "output_type": "stream",
          "name": "stdout",
          "text": [
            "Collecting simple_chalk\n",
            "  Downloading simple_chalk-0.1.0.tar.gz (13 kB)\n",
            "Building wheels for collected packages: simple-chalk\n",
            "  Building wheel for simple-chalk (setup.py) ... \u001b[?25l\u001b[?25hdone\n",
            "  Created wheel for simple-chalk: filename=simple_chalk-0.1.0-py3-none-any.whl size=22163 sha256=d109899439a3dc5e3493db5094e94a6763ca0d7bb04b148a1a253e27442c3bd5\n",
            "  Stored in directory: /root/.cache/pip/wheels/24/e2/84/d54838032016039eef79df1137b91defaa6db068d825dfcdcd\n",
            "Successfully built simple-chalk\n",
            "Installing collected packages: simple-chalk\n",
            "Successfully installed simple-chalk-0.1.0\n"
          ]
        }
      ]
    },
    {
      "cell_type": "code",
      "source": [
        "from simple_chalk import chalk, yellow\n",
        "print(chalk.yellow(\"Hola en color amarillo\"))"
      ],
      "metadata": {
        "colab": {
          "base_uri": "https://localhost:8080/"
        },
        "id": "C4DA4tXDKxHZ",
        "outputId": "e5027285-2fe7-40a0-d11f-b4847747430d"
      },
      "execution_count": 33,
      "outputs": [
        {
          "output_type": "stream",
          "name": "stdout",
          "text": [
            "\u001b[33mHola en color amarillo\u001b[0m\n"
          ]
        }
      ]
    },
    {
      "cell_type": "markdown",
      "source": [
        "#¿Cómo escribo un módulo (biblioteca)?\n",
        "\n",
        "Se define en un archivo de biblioteca.\n"
      ],
      "metadata": {
        "id": "u2Cif-PcPC21"
      }
    },
    {
      "cell_type": "code",
      "source": [
        "import mi_modulo\n",
        "\n",
        "res = mi_modulo.sumar(7,5)\n",
        "print(res)\n",
        "\n",
        "mi_modulo.mi:print(\"Jesus\",\"\\n\")\n"
      ],
      "metadata": {
        "colab": {
          "base_uri": "https://localhost:8080/"
        },
        "id": "PHFoGAfDPQ_c",
        "outputId": "2e13feb9-1676-48be-ca20-8174eff6b9e6"
      },
      "execution_count": 36,
      "outputs": [
        {
          "output_type": "stream",
          "name": "stdout",
          "text": [
            "12\n",
            "Jesus \n",
            "\n"
          ]
        }
      ]
    },
    {
      "cell_type": "markdown",
      "source": [
        "#Manejo de archivos con Python\n",
        "- leer archivos\n",
        "- escribir en archivos\n",
        "- manipular la información leida desde un archivo.\n",
        "- formatos de archivo."
      ],
      "metadata": {
        "id": "AgM8azUySw3z"
      }
    },
    {
      "cell_type": "code",
      "source": [
        "archivo = open(\"salida.txt\",\"wt\")\n",
        "archivo.write(\"hola mundo\")\n",
        "archivo.close()"
      ],
      "metadata": {
        "id": "Akfiti2NStj2"
      },
      "execution_count": 39,
      "outputs": []
    },
    {
      "cell_type": "code",
      "source": [
        "!cat salida.txt"
      ],
      "metadata": {
        "colab": {
          "base_uri": "https://localhost:8080/"
        },
        "id": "9tcN41iDTLvK",
        "outputId": "9eaa1d77-5b98-4ee8-a0e4-94cb2b5530f9"
      },
      "execution_count": 40,
      "outputs": [
        {
          "output_type": "stream",
          "name": "stdout",
          "text": [
            "hola mundo"
          ]
        }
      ]
    }
  ]
}