{
  "nbformat": 4,
  "nbformat_minor": 0,
  "metadata": {
    "colab": {
      "name": "Diccionario de Peliculas",
      "provenance": [],
      "authorship_tag": "ABX9TyN9hNYCaWOxfZWqQTwIQYKn",
      "include_colab_link": true
    },
    "kernelspec": {
      "name": "python3",
      "display_name": "Python 3"
    },
    "language_info": {
      "name": "python"
    }
  },
  "cells": [
    {
      "cell_type": "markdown",
      "metadata": {
        "id": "view-in-github",
        "colab_type": "text"
      },
      "source": [
        "<a href=\"https://colab.research.google.com/github/HazielMaldonado/CompyProg2022G1157/blob/main/Diccionario_de_Peliculas.ipynb\" target=\"_parent\"><img src=\"https://colab.research.google.com/assets/colab-badge.svg\" alt=\"Open In Colab\"/></a>"
      ]
    },
    {
      "cell_type": "code",
      "metadata": {
        "id": "dzGB4hTKK7sE"
      },
      "source": [
        "Avengers ={\n",
        "    \"Heroes\" :{\n",
        "        \"Iron Man\": \"Tony Stark\" ,\n",
        "        \"Hulk\" : \"Bruce Banner\" ,\n",
        "        \" Capitan América\" : \"Steve Rogers\"\n",
        "    }\n",
        "    ,\n",
        "    \"Dioses\" : {\n",
        "        \"Thor\" : \"Dios del trueno\" ,\n",
        "        \"Loki\" : \"Dios de las Mentiras\"\n",
        "    } ,\n",
        "    \n",
        "        \"Espias\" :{\n",
        "            \"Black widow\" : \"Natasha Romanoff\" ,\n",
        "            \"Hawkeye\" : \"Clint Barton\"\n",
        "        }\n",
        "     \"Director de Shield\" : \"Nick Fury\" ,\n",
        "\n",
        "     \" Subdirectora de Shield\" : \"Maria Hill\" ,\n",
        "     \n",
        "    }\n",
        "}"
      ],
      "execution_count": null,
      "outputs": []
    }
  ]
}